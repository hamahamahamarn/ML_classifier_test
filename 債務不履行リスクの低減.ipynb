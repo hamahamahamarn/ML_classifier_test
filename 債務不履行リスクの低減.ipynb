{
 "cells": [
  {
   "cell_type": "markdown",
   "metadata": {},
   "source": [
    "EDA"
   ]
  },
  {
   "cell_type": "code",
   "execution_count": 1,
   "metadata": {},
   "outputs": [
    {
     "name": "stdout",
     "output_type": "stream",
     "text": [
      "Requirement already satisfied: japanize_matplotlib in c:\\users\\hamaguchi takuma\\appdata\\local\\programs\\python\\python312\\lib\\site-packages (1.1.3)\n",
      "Requirement already satisfied: matplotlib in c:\\users\\hamaguchi takuma\\appdata\\local\\programs\\python\\python312\\lib\\site-packages (from japanize_matplotlib) (3.8.0)\n",
      "Requirement already satisfied: contourpy>=1.0.1 in c:\\users\\hamaguchi takuma\\appdata\\local\\programs\\python\\python312\\lib\\site-packages (from matplotlib->japanize_matplotlib) (1.1.1)\n",
      "Requirement already satisfied: cycler>=0.10 in c:\\users\\hamaguchi takuma\\appdata\\local\\programs\\python\\python312\\lib\\site-packages (from matplotlib->japanize_matplotlib) (0.12.1)\n",
      "Requirement already satisfied: fonttools>=4.22.0 in c:\\users\\hamaguchi takuma\\appdata\\local\\programs\\python\\python312\\lib\\site-packages (from matplotlib->japanize_matplotlib) (4.43.1)\n",
      "Requirement already satisfied: kiwisolver>=1.0.1 in c:\\users\\hamaguchi takuma\\appdata\\local\\programs\\python\\python312\\lib\\site-packages (from matplotlib->japanize_matplotlib) (1.4.5)\n",
      "Requirement already satisfied: numpy<2,>=1.21 in c:\\users\\hamaguchi takuma\\appdata\\local\\programs\\python\\python312\\lib\\site-packages (from matplotlib->japanize_matplotlib) (1.26.1)\n",
      "Requirement already satisfied: packaging>=20.0 in c:\\users\\hamaguchi takuma\\appdata\\roaming\\python\\python312\\site-packages (from matplotlib->japanize_matplotlib) (23.2)\n",
      "Requirement already satisfied: pillow>=6.2.0 in c:\\users\\hamaguchi takuma\\appdata\\local\\programs\\python\\python312\\lib\\site-packages (from matplotlib->japanize_matplotlib) (10.0.1)\n",
      "Requirement already satisfied: pyparsing>=2.3.1 in c:\\users\\hamaguchi takuma\\appdata\\local\\programs\\python\\python312\\lib\\site-packages (from matplotlib->japanize_matplotlib) (3.1.1)\n",
      "Requirement already satisfied: python-dateutil>=2.7 in c:\\users\\hamaguchi takuma\\appdata\\roaming\\python\\python312\\site-packages (from matplotlib->japanize_matplotlib) (2.8.2)\n",
      "Requirement already satisfied: six>=1.5 in c:\\users\\hamaguchi takuma\\appdata\\roaming\\python\\python312\\site-packages (from python-dateutil>=2.7->matplotlib->japanize_matplotlib) (1.16.0)\n"
     ]
    }
   ],
   "source": [
    "import numpy as np\n",
    "import pandas as pd\n",
    "import matplotlib.pyplot as plt\n",
    "import seaborn as sns\n",
    "!pip install japanize_matplotlib\n",
    "import japanize_matplotlib\n",
    "%matplotlib inline"
   ]
  },
  {
   "cell_type": "code",
   "execution_count": 2,
   "metadata": {},
   "outputs": [],
   "source": [
    "train = pd.read_csv('C:\\\\Users\\\\HAMAGUCHI TAKUMA\\\\OneDrive - Yokohama City University\\\\ドキュメント\\\\signate\\\\債務不履行リスクの低減\\\\train.csv')\n",
    "test = pd.read_csv('C:\\\\Users\\\\HAMAGUCHI TAKUMA\\\\OneDrive - Yokohama City University\\\\ドキュメント\\\\signate\\\\債務不履行リスクの低減\\\\test.csv')"
   ]
  },
  {
   "cell_type": "code",
   "execution_count": 3,
   "metadata": {},
   "outputs": [
    {
     "data": {
      "text/html": [
       "<div>\n",
       "<style scoped>\n",
       "    .dataframe tbody tr th:only-of-type {\n",
       "        vertical-align: middle;\n",
       "    }\n",
       "\n",
       "    .dataframe tbody tr th {\n",
       "        vertical-align: top;\n",
       "    }\n",
       "\n",
       "    .dataframe thead th {\n",
       "        text-align: right;\n",
       "    }\n",
       "</style>\n",
       "<table border=\"1\" class=\"dataframe\">\n",
       "  <thead>\n",
       "    <tr style=\"text-align: right;\">\n",
       "      <th></th>\n",
       "      <th>id</th>\n",
       "      <th>loan_amnt</th>\n",
       "      <th>term</th>\n",
       "      <th>interest_rate</th>\n",
       "      <th>grade</th>\n",
       "      <th>employment_length</th>\n",
       "      <th>purpose</th>\n",
       "      <th>credit_score</th>\n",
       "      <th>application_type</th>\n",
       "      <th>loan_status</th>\n",
       "    </tr>\n",
       "  </thead>\n",
       "  <tbody>\n",
       "    <tr>\n",
       "      <th>0</th>\n",
       "      <td>0</td>\n",
       "      <td>609.296068</td>\n",
       "      <td>3 years</td>\n",
       "      <td>8.421982</td>\n",
       "      <td>A5</td>\n",
       "      <td>0 years</td>\n",
       "      <td>debt_consolidation</td>\n",
       "      <td>714.061803</td>\n",
       "      <td>Individual</td>\n",
       "      <td>FullyPaid</td>\n",
       "    </tr>\n",
       "    <tr>\n",
       "      <th>1</th>\n",
       "      <td>1</td>\n",
       "      <td>1183.266999</td>\n",
       "      <td>5 years</td>\n",
       "      <td>10.286776</td>\n",
       "      <td>B1</td>\n",
       "      <td>10 years</td>\n",
       "      <td>credit_card</td>\n",
       "      <td>697.706701</td>\n",
       "      <td>Individual</td>\n",
       "      <td>ChargedOff</td>\n",
       "    </tr>\n",
       "    <tr>\n",
       "      <th>2</th>\n",
       "      <td>2</td>\n",
       "      <td>695.783256</td>\n",
       "      <td>3 years</td>\n",
       "      <td>14.723425</td>\n",
       "      <td>C2</td>\n",
       "      <td>1 year</td>\n",
       "      <td>debt_consolidation</td>\n",
       "      <td>656.419357</td>\n",
       "      <td>Individual</td>\n",
       "      <td>FullyPaid</td>\n",
       "    </tr>\n",
       "    <tr>\n",
       "      <th>3</th>\n",
       "      <td>3</td>\n",
       "      <td>738.392546</td>\n",
       "      <td>3 years</td>\n",
       "      <td>14.260708</td>\n",
       "      <td>C1</td>\n",
       "      <td>0 years</td>\n",
       "      <td>credit_card</td>\n",
       "      <td>657.906852</td>\n",
       "      <td>Individual</td>\n",
       "      <td>FullyPaid</td>\n",
       "    </tr>\n",
       "    <tr>\n",
       "      <th>4</th>\n",
       "      <td>4</td>\n",
       "      <td>1642.400654</td>\n",
       "      <td>5 years</td>\n",
       "      <td>25.217452</td>\n",
       "      <td>E5</td>\n",
       "      <td>10 years</td>\n",
       "      <td>debt_consolidation</td>\n",
       "      <td>662.972297</td>\n",
       "      <td>Individual</td>\n",
       "      <td>FullyPaid</td>\n",
       "    </tr>\n",
       "  </tbody>\n",
       "</table>\n",
       "</div>"
      ],
      "text/plain": [
       "   id    loan_amnt     term  interest_rate grade employment_length  \\\n",
       "0   0   609.296068  3 years       8.421982    A5           0 years   \n",
       "1   1  1183.266999  5 years      10.286776    B1          10 years   \n",
       "2   2   695.783256  3 years      14.723425    C2            1 year   \n",
       "3   3   738.392546  3 years      14.260708    C1           0 years   \n",
       "4   4  1642.400654  5 years      25.217452    E5          10 years   \n",
       "\n",
       "              purpose  credit_score application_type loan_status  \n",
       "0  debt_consolidation    714.061803       Individual   FullyPaid  \n",
       "1         credit_card    697.706701       Individual  ChargedOff  \n",
       "2  debt_consolidation    656.419357       Individual   FullyPaid  \n",
       "3         credit_card    657.906852       Individual   FullyPaid  \n",
       "4  debt_consolidation    662.972297       Individual   FullyPaid  "
      ]
     },
     "execution_count": 3,
     "metadata": {},
     "output_type": "execute_result"
    }
   ],
   "source": [
    "train.head()"
   ]
  },
  {
   "cell_type": "code",
   "execution_count": 4,
   "metadata": {},
   "outputs": [
    {
     "data": {
      "text/html": [
       "<div>\n",
       "<style scoped>\n",
       "    .dataframe tbody tr th:only-of-type {\n",
       "        vertical-align: middle;\n",
       "    }\n",
       "\n",
       "    .dataframe tbody tr th {\n",
       "        vertical-align: top;\n",
       "    }\n",
       "\n",
       "    .dataframe thead th {\n",
       "        text-align: right;\n",
       "    }\n",
       "</style>\n",
       "<table border=\"1\" class=\"dataframe\">\n",
       "  <thead>\n",
       "    <tr style=\"text-align: right;\">\n",
       "      <th></th>\n",
       "      <th>id</th>\n",
       "      <th>loan_amnt</th>\n",
       "      <th>term</th>\n",
       "      <th>interest_rate</th>\n",
       "      <th>grade</th>\n",
       "      <th>employment_length</th>\n",
       "      <th>purpose</th>\n",
       "      <th>credit_score</th>\n",
       "      <th>application_type</th>\n",
       "    </tr>\n",
       "  </thead>\n",
       "  <tbody>\n",
       "    <tr>\n",
       "      <th>0</th>\n",
       "      <td>242150</td>\n",
       "      <td>1161.830205</td>\n",
       "      <td>3 years</td>\n",
       "      <td>13.105362</td>\n",
       "      <td>C1</td>\n",
       "      <td>10 years</td>\n",
       "      <td>credit_card</td>\n",
       "      <td>682.016083</td>\n",
       "      <td>Individual</td>\n",
       "    </tr>\n",
       "    <tr>\n",
       "      <th>1</th>\n",
       "      <td>242151</td>\n",
       "      <td>2257.465815</td>\n",
       "      <td>5 years</td>\n",
       "      <td>14.196200</td>\n",
       "      <td>C5</td>\n",
       "      <td>10 years</td>\n",
       "      <td>debt_consolidation</td>\n",
       "      <td>668.240313</td>\n",
       "      <td>Individual</td>\n",
       "    </tr>\n",
       "    <tr>\n",
       "      <th>2</th>\n",
       "      <td>242152</td>\n",
       "      <td>2182.137002</td>\n",
       "      <td>3 years</td>\n",
       "      <td>8.307772</td>\n",
       "      <td>A5</td>\n",
       "      <td>10 years</td>\n",
       "      <td>credit_card</td>\n",
       "      <td>703.277694</td>\n",
       "      <td>Individual</td>\n",
       "    </tr>\n",
       "    <tr>\n",
       "      <th>3</th>\n",
       "      <td>242153</td>\n",
       "      <td>520.284912</td>\n",
       "      <td>3 years</td>\n",
       "      <td>6.956504</td>\n",
       "      <td>A2</td>\n",
       "      <td>7 years</td>\n",
       "      <td>debt_consolidation</td>\n",
       "      <td>731.138779</td>\n",
       "      <td>Individual</td>\n",
       "    </tr>\n",
       "    <tr>\n",
       "      <th>4</th>\n",
       "      <td>242154</td>\n",
       "      <td>2303.349549</td>\n",
       "      <td>3 years</td>\n",
       "      <td>11.658497</td>\n",
       "      <td>B3</td>\n",
       "      <td>6 years</td>\n",
       "      <td>debt_consolidation</td>\n",
       "      <td>698.368991</td>\n",
       "      <td>Individual</td>\n",
       "    </tr>\n",
       "  </tbody>\n",
       "</table>\n",
       "</div>"
      ],
      "text/plain": [
       "       id    loan_amnt     term  interest_rate grade employment_length  \\\n",
       "0  242150  1161.830205  3 years      13.105362    C1          10 years   \n",
       "1  242151  2257.465815  5 years      14.196200    C5          10 years   \n",
       "2  242152  2182.137002  3 years       8.307772    A5          10 years   \n",
       "3  242153   520.284912  3 years       6.956504    A2           7 years   \n",
       "4  242154  2303.349549  3 years      11.658497    B3           6 years   \n",
       "\n",
       "              purpose  credit_score application_type  \n",
       "0         credit_card    682.016083       Individual  \n",
       "1  debt_consolidation    668.240313       Individual  \n",
       "2         credit_card    703.277694       Individual  \n",
       "3  debt_consolidation    731.138779       Individual  \n",
       "4  debt_consolidation    698.368991       Individual  "
      ]
     },
     "execution_count": 4,
     "metadata": {},
     "output_type": "execute_result"
    }
   ],
   "source": [
    "test.head()"
   ]
  },
  {
   "cell_type": "code",
   "execution_count": 5,
   "metadata": {},
   "outputs": [
    {
     "data": {
      "text/plain": [
       "(242150, 10)"
      ]
     },
     "execution_count": 5,
     "metadata": {},
     "output_type": "execute_result"
    }
   ],
   "source": [
    "train.shape"
   ]
  },
  {
   "cell_type": "code",
   "execution_count": 6,
   "metadata": {},
   "outputs": [
    {
     "data": {
      "text/plain": [
       "(26900, 9)"
      ]
     },
     "execution_count": 6,
     "metadata": {},
     "output_type": "execute_result"
    }
   ],
   "source": [
    "test.shape"
   ]
  },
  {
   "cell_type": "code",
   "execution_count": 5,
   "metadata": {},
   "outputs": [
    {
     "data": {
      "text/plain": [
       "FullyPaid     199794\n",
       "ChargedOff     42356\n",
       "Name: loan_status, dtype: int64"
      ]
     },
     "execution_count": 5,
     "metadata": {},
     "output_type": "execute_result"
    }
   ],
   "source": [
    "# 目的変数loan_statusは二値分類->不均衡データ？\n",
    "train.loan_status.value_counts()"
   ]
  },
  {
   "cell_type": "code",
   "execution_count": 6,
   "metadata": {},
   "outputs": [
    {
     "name": "stdout",
     "output_type": "stream",
     "text": [
      "<class 'pandas.core.frame.DataFrame'>\n",
      "RangeIndex: 242150 entries, 0 to 242149\n",
      "Data columns (total 10 columns):\n",
      " #   Column             Non-Null Count   Dtype  \n",
      "---  ------             --------------   -----  \n",
      " 0   id                 242150 non-null  int64  \n",
      " 1   loan_amnt          242150 non-null  float64\n",
      " 2   term               242150 non-null  object \n",
      " 3   interest_rate      242150 non-null  float64\n",
      " 4   grade              242150 non-null  object \n",
      " 5   employment_length  242150 non-null  object \n",
      " 6   purpose            242150 non-null  object \n",
      " 7   credit_score       242150 non-null  float64\n",
      " 8   application_type   242150 non-null  object \n",
      " 9   loan_status        242150 non-null  object \n",
      "dtypes: float64(3), int64(1), object(6)\n",
      "memory usage: 18.5+ MB\n"
     ]
    }
   ],
   "source": [
    "train.info()"
   ]
  },
  {
   "cell_type": "code",
   "execution_count": 7,
   "metadata": {},
   "outputs": [
    {
     "data": {
      "text/plain": [
       "3 years    189887\n",
       "5 years     52263\n",
       "Name: term, dtype: int64"
      ]
     },
     "execution_count": 7,
     "metadata": {},
     "output_type": "execute_result"
    }
   ],
   "source": [
    "# 箱ひげ図と確率密度分布を数値に直して可視化したい\n",
    "train['term'].value_counts() #->不均衡データ？"
   ]
  },
  {
   "cell_type": "code",
   "execution_count": 8,
   "metadata": {},
   "outputs": [
    {
     "data": {
      "text/plain": [
       "C4    18936\n",
       "B4    18409\n",
       "C1    16767\n",
       "B2    16357\n",
       "B3    16058\n",
       "B1    15484\n",
       "B5    15163\n",
       "C2    13917\n",
       "C5    11420\n",
       "A5    10785\n",
       "D1    10464\n",
       "C3    10266\n",
       "D4     9828\n",
       "A4     9441\n",
       "D2     8823\n",
       "D3     8387\n",
       "D5     6866\n",
       "A3     6532\n",
       "A1     5764\n",
       "A2     5749\n",
       "E2     2835\n",
       "E4     2301\n",
       "E1      640\n",
       "E5      535\n",
       "E3      416\n",
       "F5        4\n",
       "F3        3\n",
       "Name: grade, dtype: int64"
      ]
     },
     "execution_count": 8,
     "metadata": {},
     "output_type": "execute_result"
    }
   ],
   "source": [
    "train['grade'].value_counts() #->ばらつきが大きそう"
   ]
  },
  {
   "cell_type": "code",
   "execution_count": 9,
   "metadata": {},
   "outputs": [
    {
     "data": {
      "text/plain": [
       "10 years    103339\n",
       "0 years      19373\n",
       "9 years      18374\n",
       "2 years      15783\n",
       "1 year       15141\n",
       "6 years      14815\n",
       "4 years      13418\n",
       "5 years      12812\n",
       "7 years      12673\n",
       "3 years      11295\n",
       "8 years       5127\n",
       "Name: employment_length, dtype: int64"
      ]
     },
     "execution_count": 9,
     "metadata": {},
     "output_type": "execute_result"
    }
   ],
   "source": [
    "# 箱ひげ図と確率密度分布を数値に直して可視化したい\n",
    "train['employment_length'].value_counts()"
   ]
  },
  {
   "cell_type": "code",
   "execution_count": 10,
   "metadata": {},
   "outputs": [
    {
     "data": {
      "text/plain": [
       "debt_consolidation    160207\n",
       "credit_card            48900\n",
       "other                  17633\n",
       "home_improvement        7686\n",
       "car                     3855\n",
       "medical                 3154\n",
       "small_business           449\n",
       "major_purchase           262\n",
       "house                      4\n",
       "Name: purpose, dtype: int64"
      ]
     },
     "execution_count": 10,
     "metadata": {},
     "output_type": "execute_result"
    }
   ],
   "source": [
    "train['purpose'].value_counts() #->houseが明らかに少ない"
   ]
  },
  {
   "cell_type": "code",
   "execution_count": 11,
   "metadata": {},
   "outputs": [
    {
     "data": {
      "text/plain": [
       "Individual    240368\n",
       "Joint App       1782\n",
       "Name: application_type, dtype: int64"
      ]
     },
     "execution_count": 11,
     "metadata": {},
     "output_type": "execute_result"
    }
   ],
   "source": [
    "train['application_type'].value_counts() #->不均衡データ？"
   ]
  },
  {
   "cell_type": "code",
   "execution_count": 12,
   "metadata": {},
   "outputs": [
    {
     "data": {
      "text/html": [
       "<div>\n",
       "<style scoped>\n",
       "    .dataframe tbody tr th:only-of-type {\n",
       "        vertical-align: middle;\n",
       "    }\n",
       "\n",
       "    .dataframe tbody tr th {\n",
       "        vertical-align: top;\n",
       "    }\n",
       "\n",
       "    .dataframe thead th {\n",
       "        text-align: right;\n",
       "    }\n",
       "</style>\n",
       "<table border=\"1\" class=\"dataframe\">\n",
       "  <thead>\n",
       "    <tr style=\"text-align: right;\">\n",
       "      <th></th>\n",
       "      <th>id</th>\n",
       "      <th>loan_amnt</th>\n",
       "      <th>interest_rate</th>\n",
       "      <th>credit_score</th>\n",
       "    </tr>\n",
       "  </thead>\n",
       "  <tbody>\n",
       "    <tr>\n",
       "      <th>count</th>\n",
       "      <td>242150.00000</td>\n",
       "      <td>242150.000000</td>\n",
       "      <td>242150.000000</td>\n",
       "      <td>242150.000000</td>\n",
       "    </tr>\n",
       "    <tr>\n",
       "      <th>mean</th>\n",
       "      <td>121074.50000</td>\n",
       "      <td>1520.389009</td>\n",
       "      <td>13.801496</td>\n",
       "      <td>683.575024</td>\n",
       "    </tr>\n",
       "    <tr>\n",
       "      <th>std</th>\n",
       "      <td>69902.82818</td>\n",
       "      <td>830.250197</td>\n",
       "      <td>4.588924</td>\n",
       "      <td>29.554795</td>\n",
       "    </tr>\n",
       "    <tr>\n",
       "      <th>min</th>\n",
       "      <td>0.00000</td>\n",
       "      <td>323.797279</td>\n",
       "      <td>5.704849</td>\n",
       "      <td>655.424269</td>\n",
       "    </tr>\n",
       "    <tr>\n",
       "      <th>25%</th>\n",
       "      <td>60537.25000</td>\n",
       "      <td>761.954545</td>\n",
       "      <td>10.876086</td>\n",
       "      <td>659.531106</td>\n",
       "    </tr>\n",
       "    <tr>\n",
       "      <th>50%</th>\n",
       "      <td>121074.50000</td>\n",
       "      <td>1212.680586</td>\n",
       "      <td>13.543833</td>\n",
       "      <td>678.672563</td>\n",
       "    </tr>\n",
       "    <tr>\n",
       "      <th>75%</th>\n",
       "      <td>181611.75000</td>\n",
       "      <td>2152.213330</td>\n",
       "      <td>17.172395</td>\n",
       "      <td>698.591960</td>\n",
       "    </tr>\n",
       "    <tr>\n",
       "      <th>max</th>\n",
       "      <td>242149.00000</td>\n",
       "      <td>3851.867974</td>\n",
       "      <td>27.980604</td>\n",
       "      <td>808.551641</td>\n",
       "    </tr>\n",
       "  </tbody>\n",
       "</table>\n",
       "</div>"
      ],
      "text/plain": [
       "                 id      loan_amnt  interest_rate   credit_score\n",
       "count  242150.00000  242150.000000  242150.000000  242150.000000\n",
       "mean   121074.50000    1520.389009      13.801496     683.575024\n",
       "std     69902.82818     830.250197       4.588924      29.554795\n",
       "min         0.00000     323.797279       5.704849     655.424269\n",
       "25%     60537.25000     761.954545      10.876086     659.531106\n",
       "50%    121074.50000    1212.680586      13.543833     678.672563\n",
       "75%    181611.75000    2152.213330      17.172395     698.591960\n",
       "max    242149.00000    3851.867974      27.980604     808.551641"
      ]
     },
     "execution_count": 12,
     "metadata": {},
     "output_type": "execute_result"
    }
   ],
   "source": [
    "train.describe()"
   ]
  },
  {
   "cell_type": "code",
   "execution_count": 13,
   "metadata": {},
   "outputs": [],
   "source": [
    "int_lst = ['id', 'loan_amnt', 'interest_rate', 'credit_score']"
   ]
  },
  {
   "cell_type": "code",
   "execution_count": 14,
   "metadata": {},
   "outputs": [],
   "source": [
    "# 数値データがいくつかの層に分かれているので標準化は必要ないと予想\n",
    "# from sklearn.preprocessing import StandardScaler\n",
    "# scaler = StandardScaler()\n",
    "\n",
    "# df[['interest_rate', 'credit_score']] = scaler.fit_transform(df[['interest_rate', 'credit_score']])\n",
    "# df.head()"
   ]
  },
  {
   "cell_type": "code",
   "execution_count": 15,
   "metadata": {},
   "outputs": [
    {
     "data": {
      "image/png": "[encoded data removed]",
      "text/plain": [
       "<Figure size 2000x1000 with 4 Axes>"
      ]
     },
     "metadata": {},
     "output_type": "display_data"
    }
   ],
   "source": [
    "# interest_rate, credit_scoreには外れ値が見られるため、処置が必要そう->やっぱいらないかな\n",
    "from scipy import stats\n",
    "\n",
    "fig, axs = plt.subplots(ncols=4, nrows=1, figsize=(20, 10))\n",
    "index = 0\n",
    "axs = axs.flatten()\n",
    "for k, v in train[['id', 'loan_amnt', 'interest_rate', 'credit_score']].items():\n",
    "    sns.boxplot(y=k, data=train, ax=axs[index])\n",
    "    index += 1\n",
    "plt.tight_layout(pad=0.4, w_pad=0.5, h_pad=5.0)"
   ]
  },
  {
   "cell_type": "code",
   "execution_count": 16,
   "metadata": {},
   "outputs": [
    {
     "name": "stderr",
     "output_type": "stream",
     "text": [
      "C:\\Users\\HAMAGUCHI TAKUMA\\AppData\\Local\\Temp\\ipykernel_10924\\3619003754.py:6: UserWarning: \n",
      "\n",
      "`distplot` is a deprecated function and will be removed in seaborn v0.14.0.\n",
      "\n",
      "Please adapt your code to use either `displot` (a figure-level function with\n",
      "similar flexibility) or `histplot` (an axes-level function for histograms).\n",
      "\n",
      "For a guide to updating your code to use the new functions, please see\n",
      "https://gist.github.com/mwaskom/de44147ed2974457ad6372750bbe5751\n",
      "\n",
      "  sns.distplot(v, ax=axs[index])\n",
      "C:\\Users\\HAMAGUCHI TAKUMA\\AppData\\Local\\Temp\\ipykernel_10924\\3619003754.py:6: UserWarning: \n",
      "\n",
      "`distplot` is a deprecated function and will be removed in seaborn v0.14.0.\n",
      "\n",
      "Please adapt your code to use either `displot` (a figure-level function with\n",
      "similar flexibility) or `histplot` (an axes-level function for histograms).\n",
      "\n",
      "For a guide to updating your code to use the new functions, please see\n",
      "https://gist.github.com/mwaskom/de44147ed2974457ad6372750bbe5751\n",
      "\n",
      "  sns.distplot(v, ax=axs[index])\n",
      "C:\\Users\\HAMAGUCHI TAKUMA\\AppData\\Local\\Temp\\ipykernel_10924\\3619003754.py:6: UserWarning: \n",
      "\n",
      "`distplot` is a deprecated function and will be removed in seaborn v0.14.0.\n",
      "\n",
      "Please adapt your code to use either `displot` (a figure-level function with\n",
      "similar flexibility) or `histplot` (an axes-level function for histograms).\n",
      "\n",
      "For a guide to updating your code to use the new functions, please see\n",
      "https://gist.github.com/mwaskom/de44147ed2974457ad6372750bbe5751\n",
      "\n",
      "  sns.distplot(v, ax=axs[index])\n",
      "C:\\Users\\HAMAGUCHI TAKUMA\\AppData\\Local\\Temp\\ipykernel_10924\\3619003754.py:6: UserWarning: \n",
      "\n",
      "`distplot` is a deprecated function and will be removed in seaborn v0.14.0.\n",
      "\n",
      "Please adapt your code to use either `displot` (a figure-level function with\n",
      "similar flexibility) or `histplot` (an axes-level function for histograms).\n",
      "\n",
      "For a guide to updating your code to use the new functions, please see\n",
      "https://gist.github.com/mwaskom/de44147ed2974457ad6372750bbe5751\n",
      "\n",
      "  sns.distplot(v, ax=axs[index])\n"
     ]
    },
    {
     "data": {
      "image/png": "[encoded data removed]",
      "text/plain": [
       "<Figure size 2000x1000 with 4 Axes>"
      ]
     },
     "metadata": {},
     "output_type": "display_data"
    }
   ],
   "source": [
    "# 多峰性が見られるため、それぞれの峰ごとに分けた特徴量のvalueを作ったほうが良い気がする\n",
    "fig, axs = plt.subplots(ncols=4, nrows=1, figsize=(20, 10))\n",
    "index = 0\n",
    "axs = axs.flatten()\n",
    "for k, v in train[['id', 'loan_amnt', 'interest_rate', 'credit_score']].items():\n",
    "    sns.distplot(v, ax=axs[index])\n",
    "    index += 1\n",
    "plt.tight_layout(pad=0.4, w_pad=0.5, h_pad=0.5);"
   ]
  },
  {
   "cell_type": "code",
   "execution_count": 17,
   "metadata": {},
   "outputs": [
    {
     "data": {
      "text/plain": [
       "698.429542     3\n",
       "2281.711256    2\n",
       "1176.782193    2\n",
       "1144.486899    2\n",
       "2318.346176    2\n",
       "              ..\n",
       "3598.159595    1\n",
       "677.277718     1\n",
       "2236.483684    1\n",
       "2229.439169    1\n",
       "2464.766281    1\n",
       "Name: loan_amnt, Length: 241705, dtype: int64"
      ]
     },
     "execution_count": 17,
     "metadata": {},
     "output_type": "execute_result"
    }
   ],
   "source": [
    "train.loan_amnt.value_counts()"
   ]
  },
  {
   "cell_type": "code",
   "execution_count": 18,
   "metadata": {},
   "outputs": [
    {
     "data": {
      "text/plain": [
       "14.815612    2\n",
       "14.695510    2\n",
       "10.684984    2\n",
       "19.050507    2\n",
       "13.191068    2\n",
       "            ..\n",
       "11.063027    1\n",
       "14.233826    1\n",
       "7.197906     1\n",
       "18.877091    1\n",
       "17.052682    1\n",
       "Name: interest_rate, Length: 241973, dtype: int64"
      ]
     },
     "execution_count": 18,
     "metadata": {},
     "output_type": "execute_result"
    }
   ],
   "source": [
    "train.interest_rate.value_counts()"
   ]
  },
  {
   "cell_type": "code",
   "execution_count": 19,
   "metadata": {},
   "outputs": [
    {
     "data": {
      "text/plain": [
       "698.053781    3\n",
       "657.703206    3\n",
       "677.728953    3\n",
       "659.533269    3\n",
       "657.853951    3\n",
       "             ..\n",
       "659.745155    1\n",
       "682.338617    1\n",
       "655.972913    1\n",
       "657.882617    1\n",
       "658.274675    1\n",
       "Name: credit_score, Length: 240708, dtype: int64"
      ]
     },
     "execution_count": 19,
     "metadata": {},
     "output_type": "execute_result"
    }
   ],
   "source": [
    "train.credit_score.value_counts()"
   ]
  },
  {
   "cell_type": "code",
   "execution_count": 20,
   "metadata": {},
   "outputs": [
    {
     "data": {
      "image/png": "[encoded data removed]",
      "text/plain": [
       "<Figure size 1000x1000 with 2 Axes>"
      ]
     },
     "metadata": {},
     "output_type": "display_data"
    }
   ],
   "source": [
    "# 若干interest_rateとcredit_scoreで多重共線性の疑いが持たれる->一旦無視\n",
    "sns.set_context(\"talk\")\n",
    "fig = plt.subplots(figsize=(10, 10))\n",
    "sns.heatmap(train.corr(), annot=True, fmt='.2f', cmap='Blues', square=True);"
   ]
  },
  {
   "cell_type": "markdown",
   "metadata": {},
   "source": [
    "特徴量エンジニアリング"
   ]
  },
  {
   "cell_type": "code",
   "execution_count": 21,
   "metadata": {},
   "outputs": [],
   "source": [
    "# # ラベルエンコーディング(trainのみ)\n",
    "# from sklearn.preprocessing import LabelEncoder\n",
    "# le = LabelEncoder()\n",
    "# train['loan_status'] = le.fit_transform(train['loan_status'])\n",
    "# train.head()"
   ]
  },
  {
   "cell_type": "code",
   "execution_count": 22,
   "metadata": {},
   "outputs": [],
   "source": [
    "# for label, integer in zip(le.classes_, le.transform(le.classes_)):\n",
    "#     print(f\"{label} => {integer}\")"
   ]
  },
  {
   "cell_type": "code",
   "execution_count": 23,
   "metadata": {},
   "outputs": [
    {
     "data": {
      "text/html": [
       "<div>\n",
       "<style scoped>\n",
       "    .dataframe tbody tr th:only-of-type {\n",
       "        vertical-align: middle;\n",
       "    }\n",
       "\n",
       "    .dataframe tbody tr th {\n",
       "        vertical-align: top;\n",
       "    }\n",
       "\n",
       "    .dataframe thead th {\n",
       "        text-align: right;\n",
       "    }\n",
       "</style>\n",
       "<table border=\"1\" class=\"dataframe\">\n",
       "  <thead>\n",
       "    <tr style=\"text-align: right;\">\n",
       "      <th></th>\n",
       "      <th>id</th>\n",
       "      <th>loan_amnt</th>\n",
       "      <th>term</th>\n",
       "      <th>interest_rate</th>\n",
       "      <th>grade</th>\n",
       "      <th>employment_length</th>\n",
       "      <th>purpose</th>\n",
       "      <th>credit_score</th>\n",
       "      <th>application_type</th>\n",
       "      <th>loan_status</th>\n",
       "    </tr>\n",
       "  </thead>\n",
       "  <tbody>\n",
       "    <tr>\n",
       "      <th>0</th>\n",
       "      <td>0</td>\n",
       "      <td>609.296068</td>\n",
       "      <td>3 years</td>\n",
       "      <td>8.421982</td>\n",
       "      <td>A5</td>\n",
       "      <td>0 years</td>\n",
       "      <td>debt_consolidation</td>\n",
       "      <td>714.061803</td>\n",
       "      <td>Individual</td>\n",
       "      <td>0</td>\n",
       "    </tr>\n",
       "    <tr>\n",
       "      <th>1</th>\n",
       "      <td>1</td>\n",
       "      <td>1183.266999</td>\n",
       "      <td>5 years</td>\n",
       "      <td>10.286776</td>\n",
       "      <td>B1</td>\n",
       "      <td>10 years</td>\n",
       "      <td>credit_card</td>\n",
       "      <td>697.706701</td>\n",
       "      <td>Individual</td>\n",
       "      <td>1</td>\n",
       "    </tr>\n",
       "    <tr>\n",
       "      <th>2</th>\n",
       "      <td>2</td>\n",
       "      <td>695.783256</td>\n",
       "      <td>3 years</td>\n",
       "      <td>14.723425</td>\n",
       "      <td>C2</td>\n",
       "      <td>1 year</td>\n",
       "      <td>debt_consolidation</td>\n",
       "      <td>656.419357</td>\n",
       "      <td>Individual</td>\n",
       "      <td>0</td>\n",
       "    </tr>\n",
       "    <tr>\n",
       "      <th>3</th>\n",
       "      <td>3</td>\n",
       "      <td>738.392546</td>\n",
       "      <td>3 years</td>\n",
       "      <td>14.260708</td>\n",
       "      <td>C1</td>\n",
       "      <td>0 years</td>\n",
       "      <td>credit_card</td>\n",
       "      <td>657.906852</td>\n",
       "      <td>Individual</td>\n",
       "      <td>0</td>\n",
       "    </tr>\n",
       "    <tr>\n",
       "      <th>4</th>\n",
       "      <td>4</td>\n",
       "      <td>1642.400654</td>\n",
       "      <td>5 years</td>\n",
       "      <td>25.217452</td>\n",
       "      <td>E5</td>\n",
       "      <td>10 years</td>\n",
       "      <td>debt_consolidation</td>\n",
       "      <td>662.972297</td>\n",
       "      <td>Individual</td>\n",
       "      <td>0</td>\n",
       "    </tr>\n",
       "  </tbody>\n",
       "</table>\n",
       "</div>"
      ],
      "text/plain": [
       "   id    loan_amnt     term  interest_rate grade employment_length  \\\n",
       "0   0   609.296068  3 years       8.421982    A5           0 years   \n",
       "1   1  1183.266999  5 years      10.286776    B1          10 years   \n",
       "2   2   695.783256  3 years      14.723425    C2            1 year   \n",
       "3   3   738.392546  3 years      14.260708    C1           0 years   \n",
       "4   4  1642.400654  5 years      25.217452    E5          10 years   \n",
       "\n",
       "              purpose  credit_score application_type  loan_status  \n",
       "0  debt_consolidation    714.061803       Individual            0  \n",
       "1         credit_card    697.706701       Individual            1  \n",
       "2  debt_consolidation    656.419357       Individual            0  \n",
       "3         credit_card    657.906852       Individual            0  \n",
       "4  debt_consolidation    662.972297       Individual            0  "
      ]
     },
     "execution_count": 23,
     "metadata": {},
     "output_type": "execute_result"
    }
   ],
   "source": [
    "# 目的変数の要素を数値に変換\n",
    "mapping_dict = {'FullyPaid':0, 'ChargedOff':1}\n",
    "train['loan_status'] = [mapping_dict[v] for v in train['loan_status']]\n",
    "train.head()"
   ]
  },
  {
   "cell_type": "code",
   "execution_count": 24,
   "metadata": {},
   "outputs": [
    {
     "data": {
      "text/html": [
       "<div>\n",
       "<style scoped>\n",
       "    .dataframe tbody tr th:only-of-type {\n",
       "        vertical-align: middle;\n",
       "    }\n",
       "\n",
       "    .dataframe tbody tr th {\n",
       "        vertical-align: top;\n",
       "    }\n",
       "\n",
       "    .dataframe thead th {\n",
       "        text-align: right;\n",
       "    }\n",
       "</style>\n",
       "<table border=\"1\" class=\"dataframe\">\n",
       "  <thead>\n",
       "    <tr style=\"text-align: right;\">\n",
       "      <th></th>\n",
       "      <th>id</th>\n",
       "      <th>loan_amnt</th>\n",
       "      <th>term</th>\n",
       "      <th>interest_rate</th>\n",
       "      <th>grade</th>\n",
       "      <th>employment_length</th>\n",
       "      <th>purpose</th>\n",
       "      <th>credit_score</th>\n",
       "      <th>application_type</th>\n",
       "      <th>loan_status</th>\n",
       "    </tr>\n",
       "  </thead>\n",
       "  <tbody>\n",
       "    <tr>\n",
       "      <th>0</th>\n",
       "      <td>0</td>\n",
       "      <td>609.296068</td>\n",
       "      <td>3 years</td>\n",
       "      <td>8.421982</td>\n",
       "      <td>A5</td>\n",
       "      <td>0 years</td>\n",
       "      <td>debt_consolidation</td>\n",
       "      <td>714.061803</td>\n",
       "      <td>Individual</td>\n",
       "      <td>0.0</td>\n",
       "    </tr>\n",
       "    <tr>\n",
       "      <th>1</th>\n",
       "      <td>1</td>\n",
       "      <td>1183.266999</td>\n",
       "      <td>5 years</td>\n",
       "      <td>10.286776</td>\n",
       "      <td>B1</td>\n",
       "      <td>10 years</td>\n",
       "      <td>credit_card</td>\n",
       "      <td>697.706701</td>\n",
       "      <td>Individual</td>\n",
       "      <td>1.0</td>\n",
       "    </tr>\n",
       "    <tr>\n",
       "      <th>2</th>\n",
       "      <td>2</td>\n",
       "      <td>695.783256</td>\n",
       "      <td>3 years</td>\n",
       "      <td>14.723425</td>\n",
       "      <td>C2</td>\n",
       "      <td>1 year</td>\n",
       "      <td>debt_consolidation</td>\n",
       "      <td>656.419357</td>\n",
       "      <td>Individual</td>\n",
       "      <td>0.0</td>\n",
       "    </tr>\n",
       "    <tr>\n",
       "      <th>3</th>\n",
       "      <td>3</td>\n",
       "      <td>738.392546</td>\n",
       "      <td>3 years</td>\n",
       "      <td>14.260708</td>\n",
       "      <td>C1</td>\n",
       "      <td>0 years</td>\n",
       "      <td>credit_card</td>\n",
       "      <td>657.906852</td>\n",
       "      <td>Individual</td>\n",
       "      <td>0.0</td>\n",
       "    </tr>\n",
       "    <tr>\n",
       "      <th>4</th>\n",
       "      <td>4</td>\n",
       "      <td>1642.400654</td>\n",
       "      <td>5 years</td>\n",
       "      <td>25.217452</td>\n",
       "      <td>E5</td>\n",
       "      <td>10 years</td>\n",
       "      <td>debt_consolidation</td>\n",
       "      <td>662.972297</td>\n",
       "      <td>Individual</td>\n",
       "      <td>0.0</td>\n",
       "    </tr>\n",
       "  </tbody>\n",
       "</table>\n",
       "</div>"
      ],
      "text/plain": [
       "   id    loan_amnt     term  interest_rate grade employment_length  \\\n",
       "0   0   609.296068  3 years       8.421982    A5           0 years   \n",
       "1   1  1183.266999  5 years      10.286776    B1          10 years   \n",
       "2   2   695.783256  3 years      14.723425    C2            1 year   \n",
       "3   3   738.392546  3 years      14.260708    C1           0 years   \n",
       "4   4  1642.400654  5 years      25.217452    E5          10 years   \n",
       "\n",
       "              purpose  credit_score application_type  loan_status  \n",
       "0  debt_consolidation    714.061803       Individual          0.0  \n",
       "1         credit_card    697.706701       Individual          1.0  \n",
       "2  debt_consolidation    656.419357       Individual          0.0  \n",
       "3         credit_card    657.906852       Individual          0.0  \n",
       "4  debt_consolidation    662.972297       Individual          0.0  "
      ]
     },
     "execution_count": 24,
     "metadata": {},
     "output_type": "execute_result"
    }
   ],
   "source": [
    "df = pd.concat([train, test])\n",
    "df.head()"
   ]
  },
  {
   "cell_type": "code",
   "execution_count": 25,
   "metadata": {},
   "outputs": [
    {
     "data": {
      "text/html": [
       "<div>\n",
       "<style scoped>\n",
       "    .dataframe tbody tr th:only-of-type {\n",
       "        vertical-align: middle;\n",
       "    }\n",
       "\n",
       "    .dataframe tbody tr th {\n",
       "        vertical-align: top;\n",
       "    }\n",
       "\n",
       "    .dataframe thead th {\n",
       "        text-align: right;\n",
       "    }\n",
       "</style>\n",
       "<table border=\"1\" class=\"dataframe\">\n",
       "  <thead>\n",
       "    <tr style=\"text-align: right;\">\n",
       "      <th></th>\n",
       "      <th>id</th>\n",
       "      <th>loan_amnt</th>\n",
       "      <th>term</th>\n",
       "      <th>interest_rate</th>\n",
       "      <th>grade</th>\n",
       "      <th>employment_length</th>\n",
       "      <th>purpose</th>\n",
       "      <th>credit_score</th>\n",
       "      <th>application_type</th>\n",
       "      <th>loan_status</th>\n",
       "    </tr>\n",
       "  </thead>\n",
       "  <tbody>\n",
       "    <tr>\n",
       "      <th>0</th>\n",
       "      <td>0</td>\n",
       "      <td>609.296068</td>\n",
       "      <td>3</td>\n",
       "      <td>8.421982</td>\n",
       "      <td>A5</td>\n",
       "      <td>0 years</td>\n",
       "      <td>debt_consolidation</td>\n",
       "      <td>714.061803</td>\n",
       "      <td>Individual</td>\n",
       "      <td>0.0</td>\n",
       "    </tr>\n",
       "    <tr>\n",
       "      <th>1</th>\n",
       "      <td>1</td>\n",
       "      <td>1183.266999</td>\n",
       "      <td>5</td>\n",
       "      <td>10.286776</td>\n",
       "      <td>B1</td>\n",
       "      <td>10 years</td>\n",
       "      <td>credit_card</td>\n",
       "      <td>697.706701</td>\n",
       "      <td>Individual</td>\n",
       "      <td>1.0</td>\n",
       "    </tr>\n",
       "    <tr>\n",
       "      <th>2</th>\n",
       "      <td>2</td>\n",
       "      <td>695.783256</td>\n",
       "      <td>3</td>\n",
       "      <td>14.723425</td>\n",
       "      <td>C2</td>\n",
       "      <td>1 year</td>\n",
       "      <td>debt_consolidation</td>\n",
       "      <td>656.419357</td>\n",
       "      <td>Individual</td>\n",
       "      <td>0.0</td>\n",
       "    </tr>\n",
       "    <tr>\n",
       "      <th>3</th>\n",
       "      <td>3</td>\n",
       "      <td>738.392546</td>\n",
       "      <td>3</td>\n",
       "      <td>14.260708</td>\n",
       "      <td>C1</td>\n",
       "      <td>0 years</td>\n",
       "      <td>credit_card</td>\n",
       "      <td>657.906852</td>\n",
       "      <td>Individual</td>\n",
       "      <td>0.0</td>\n",
       "    </tr>\n",
       "    <tr>\n",
       "      <th>4</th>\n",
       "      <td>4</td>\n",
       "      <td>1642.400654</td>\n",
       "      <td>5</td>\n",
       "      <td>25.217452</td>\n",
       "      <td>E5</td>\n",
       "      <td>10 years</td>\n",
       "      <td>debt_consolidation</td>\n",
       "      <td>662.972297</td>\n",
       "      <td>Individual</td>\n",
       "      <td>0.0</td>\n",
       "    </tr>\n",
       "  </tbody>\n",
       "</table>\n",
       "</div>"
      ],
      "text/plain": [
       "   id    loan_amnt  term  interest_rate grade employment_length  \\\n",
       "0   0   609.296068     3       8.421982    A5           0 years   \n",
       "1   1  1183.266999     5      10.286776    B1          10 years   \n",
       "2   2   695.783256     3      14.723425    C2            1 year   \n",
       "3   3   738.392546     3      14.260708    C1           0 years   \n",
       "4   4  1642.400654     5      25.217452    E5          10 years   \n",
       "\n",
       "              purpose  credit_score application_type  loan_status  \n",
       "0  debt_consolidation    714.061803       Individual          0.0  \n",
       "1         credit_card    697.706701       Individual          1.0  \n",
       "2  debt_consolidation    656.419357       Individual          0.0  \n",
       "3         credit_card    657.906852       Individual          0.0  \n",
       "4  debt_consolidation    662.972297       Individual          0.0  "
      ]
     },
     "execution_count": 25,
     "metadata": {},
     "output_type": "execute_result"
    }
   ],
   "source": [
    "# termを数値のみ取り出す\n",
    "df[\"term\"] = df[\"term\"].str[0].astype(int)\n",
    "df.head()"
   ]
  },
  {
   "cell_type": "code",
   "execution_count": 26,
   "metadata": {},
   "outputs": [
    {
     "data": {
      "text/html": [
       "<div>\n",
       "<style scoped>\n",
       "    .dataframe tbody tr th:only-of-type {\n",
       "        vertical-align: middle;\n",
       "    }\n",
       "\n",
       "    .dataframe tbody tr th {\n",
       "        vertical-align: top;\n",
       "    }\n",
       "\n",
       "    .dataframe thead th {\n",
       "        text-align: right;\n",
       "    }\n",
       "</style>\n",
       "<table border=\"1\" class=\"dataframe\">\n",
       "  <thead>\n",
       "    <tr style=\"text-align: right;\">\n",
       "      <th></th>\n",
       "      <th>id</th>\n",
       "      <th>loan_amnt</th>\n",
       "      <th>term</th>\n",
       "      <th>interest_rate</th>\n",
       "      <th>grade</th>\n",
       "      <th>employment_length</th>\n",
       "      <th>purpose</th>\n",
       "      <th>credit_score</th>\n",
       "      <th>application_type</th>\n",
       "      <th>loan_status</th>\n",
       "    </tr>\n",
       "  </thead>\n",
       "  <tbody>\n",
       "    <tr>\n",
       "      <th>0</th>\n",
       "      <td>0</td>\n",
       "      <td>609.296068</td>\n",
       "      <td>3</td>\n",
       "      <td>8.421982</td>\n",
       "      <td>A5</td>\n",
       "      <td>0</td>\n",
       "      <td>debt_consolidation</td>\n",
       "      <td>714.061803</td>\n",
       "      <td>Individual</td>\n",
       "      <td>0.0</td>\n",
       "    </tr>\n",
       "    <tr>\n",
       "      <th>1</th>\n",
       "      <td>1</td>\n",
       "      <td>1183.266999</td>\n",
       "      <td>5</td>\n",
       "      <td>10.286776</td>\n",
       "      <td>B1</td>\n",
       "      <td>1</td>\n",
       "      <td>credit_card</td>\n",
       "      <td>697.706701</td>\n",
       "      <td>Individual</td>\n",
       "      <td>1.0</td>\n",
       "    </tr>\n",
       "    <tr>\n",
       "      <th>2</th>\n",
       "      <td>2</td>\n",
       "      <td>695.783256</td>\n",
       "      <td>3</td>\n",
       "      <td>14.723425</td>\n",
       "      <td>C2</td>\n",
       "      <td>1</td>\n",
       "      <td>debt_consolidation</td>\n",
       "      <td>656.419357</td>\n",
       "      <td>Individual</td>\n",
       "      <td>0.0</td>\n",
       "    </tr>\n",
       "    <tr>\n",
       "      <th>3</th>\n",
       "      <td>3</td>\n",
       "      <td>738.392546</td>\n",
       "      <td>3</td>\n",
       "      <td>14.260708</td>\n",
       "      <td>C1</td>\n",
       "      <td>0</td>\n",
       "      <td>credit_card</td>\n",
       "      <td>657.906852</td>\n",
       "      <td>Individual</td>\n",
       "      <td>0.0</td>\n",
       "    </tr>\n",
       "    <tr>\n",
       "      <th>4</th>\n",
       "      <td>4</td>\n",
       "      <td>1642.400654</td>\n",
       "      <td>5</td>\n",
       "      <td>25.217452</td>\n",
       "      <td>E5</td>\n",
       "      <td>1</td>\n",
       "      <td>debt_consolidation</td>\n",
       "      <td>662.972297</td>\n",
       "      <td>Individual</td>\n",
       "      <td>0.0</td>\n",
       "    </tr>\n",
       "  </tbody>\n",
       "</table>\n",
       "</div>"
      ],
      "text/plain": [
       "   id    loan_amnt  term  interest_rate grade  employment_length  \\\n",
       "0   0   609.296068     3       8.421982    A5                  0   \n",
       "1   1  1183.266999     5      10.286776    B1                  1   \n",
       "2   2   695.783256     3      14.723425    C2                  1   \n",
       "3   3   738.392546     3      14.260708    C1                  0   \n",
       "4   4  1642.400654     5      25.217452    E5                  1   \n",
       "\n",
       "              purpose  credit_score application_type  loan_status  \n",
       "0  debt_consolidation    714.061803       Individual          0.0  \n",
       "1         credit_card    697.706701       Individual          1.0  \n",
       "2  debt_consolidation    656.419357       Individual          0.0  \n",
       "3         credit_card    657.906852       Individual          0.0  \n",
       "4  debt_consolidation    662.972297       Individual          0.0  "
      ]
     },
     "execution_count": 26,
     "metadata": {},
     "output_type": "execute_result"
    }
   ],
   "source": [
    "# employment_lengthを数値のみ取り出す\n",
    "df[\"employment_length\"] = df[\"employment_length\"].str[0].astype(int)\n",
    "df.head()"
   ]
  },
  {
   "cell_type": "code",
   "execution_count": 27,
   "metadata": {},
   "outputs": [
    {
     "data": {
      "text/plain": [
       "debt_consolidation    177993\n",
       "credit_card            54318\n",
       "other                  19609\n",
       "home_improvement        8525\n",
       "car                     4296\n",
       "medical                 3508\n",
       "small_business           508\n",
       "major_purchase           288\n",
       "house                      5\n",
       "Name: purpose, dtype: int64"
      ]
     },
     "execution_count": 27,
     "metadata": {},
     "output_type": "execute_result"
    }
   ],
   "source": [
    "# purpose列に含まれる'moving'を'other'にまとめる\n",
    "df[\"purpose\"] = df[\"purpose\"].replace(['moving', 'other'], 'other')\n",
    "df[\"purpose\"].value_counts()"
   ]
  },
  {
   "cell_type": "code",
   "execution_count": 28,
   "metadata": {},
   "outputs": [
    {
     "name": "stderr",
     "output_type": "stream",
     "text": [
      "C:\\Users\\HAMAGUCHI TAKUMA\\AppData\\Local\\Temp\\ipykernel_10924\\1447966654.py:6: UserWarning: \n",
      "\n",
      "`distplot` is a deprecated function and will be removed in seaborn v0.14.0.\n",
      "\n",
      "Please adapt your code to use either `displot` (a figure-level function with\n",
      "similar flexibility) or `histplot` (an axes-level function for histograms).\n",
      "\n",
      "For a guide to updating your code to use the new functions, please see\n",
      "https://gist.github.com/mwaskom/de44147ed2974457ad6372750bbe5751\n",
      "\n",
      "  sns.distplot(v, ax=axs[index])\n",
      "C:\\Users\\HAMAGUCHI TAKUMA\\AppData\\Local\\Temp\\ipykernel_10924\\1447966654.py:6: UserWarning: \n",
      "\n",
      "`distplot` is a deprecated function and will be removed in seaborn v0.14.0.\n",
      "\n",
      "Please adapt your code to use either `displot` (a figure-level function with\n",
      "similar flexibility) or `histplot` (an axes-level function for histograms).\n",
      "\n",
      "For a guide to updating your code to use the new functions, please see\n",
      "https://gist.github.com/mwaskom/de44147ed2974457ad6372750bbe5751\n",
      "\n",
      "  sns.distplot(v, ax=axs[index])\n"
     ]
    },
    {
     "data": {
      "image/png": "[encoded data removed]",
      "text/plain": [
       "<Figure size 2000x1000 with 2 Axes>"
      ]
     },
     "metadata": {},
     "output_type": "display_data"
    }
   ],
   "source": [
    "# 多峰性が見られるため、それぞれの峰ごとに分けた特徴量のvalueを作ったほうが良い気がする->そのままで良いと予想\n",
    "fig, axs = plt.subplots(ncols=2, nrows=1, figsize=(20, 10))\n",
    "index = 0\n",
    "axs = axs.flatten()\n",
    "for k, v in df[['term', 'employment_length']].items():\n",
    "    sns.distplot(v, ax=axs[index])\n",
    "    index += 1\n",
    "plt.tight_layout(pad=0.4, w_pad=0.5, h_pad=0.5);"
   ]
  },
  {
   "cell_type": "code",
   "execution_count": 29,
   "metadata": {},
   "outputs": [
    {
     "data": {
      "text/html": [
       "<div>\n",
       "<style scoped>\n",
       "    .dataframe tbody tr th:only-of-type {\n",
       "        vertical-align: middle;\n",
       "    }\n",
       "\n",
       "    .dataframe tbody tr th {\n",
       "        vertical-align: top;\n",
       "    }\n",
       "\n",
       "    .dataframe thead th {\n",
       "        text-align: right;\n",
       "    }\n",
       "</style>\n",
       "<table border=\"1\" class=\"dataframe\">\n",
       "  <thead>\n",
       "    <tr style=\"text-align: right;\">\n",
       "      <th></th>\n",
       "      <th>id</th>\n",
       "      <th>loan_amnt</th>\n",
       "      <th>term</th>\n",
       "      <th>interest_rate</th>\n",
       "      <th>grade</th>\n",
       "      <th>employment_length</th>\n",
       "      <th>purpose</th>\n",
       "      <th>credit_score</th>\n",
       "      <th>application_type</th>\n",
       "      <th>loan_status</th>\n",
       "    </tr>\n",
       "  </thead>\n",
       "  <tbody>\n",
       "    <tr>\n",
       "      <th>0</th>\n",
       "      <td>0</td>\n",
       "      <td>609.296068</td>\n",
       "      <td>3</td>\n",
       "      <td>8.421982</td>\n",
       "      <td>A5</td>\n",
       "      <td>0</td>\n",
       "      <td>debt_consolidation</td>\n",
       "      <td>714.061803</td>\n",
       "      <td>Individual</td>\n",
       "      <td>0.0</td>\n",
       "    </tr>\n",
       "    <tr>\n",
       "      <th>1</th>\n",
       "      <td>1</td>\n",
       "      <td>1183.266999</td>\n",
       "      <td>5</td>\n",
       "      <td>10.286776</td>\n",
       "      <td>B1</td>\n",
       "      <td>1</td>\n",
       "      <td>credit_card</td>\n",
       "      <td>697.706701</td>\n",
       "      <td>Individual</td>\n",
       "      <td>1.0</td>\n",
       "    </tr>\n",
       "    <tr>\n",
       "      <th>2</th>\n",
       "      <td>2</td>\n",
       "      <td>695.783256</td>\n",
       "      <td>3</td>\n",
       "      <td>14.723425</td>\n",
       "      <td>C2</td>\n",
       "      <td>1</td>\n",
       "      <td>debt_consolidation</td>\n",
       "      <td>656.419357</td>\n",
       "      <td>Individual</td>\n",
       "      <td>0.0</td>\n",
       "    </tr>\n",
       "    <tr>\n",
       "      <th>3</th>\n",
       "      <td>3</td>\n",
       "      <td>738.392546</td>\n",
       "      <td>3</td>\n",
       "      <td>14.260708</td>\n",
       "      <td>C1</td>\n",
       "      <td>0</td>\n",
       "      <td>credit_card</td>\n",
       "      <td>657.906852</td>\n",
       "      <td>Individual</td>\n",
       "      <td>0.0</td>\n",
       "    </tr>\n",
       "    <tr>\n",
       "      <th>4</th>\n",
       "      <td>4</td>\n",
       "      <td>1642.400654</td>\n",
       "      <td>5</td>\n",
       "      <td>25.217452</td>\n",
       "      <td>E5</td>\n",
       "      <td>1</td>\n",
       "      <td>debt_consolidation</td>\n",
       "      <td>662.972297</td>\n",
       "      <td>Individual</td>\n",
       "      <td>0.0</td>\n",
       "    </tr>\n",
       "  </tbody>\n",
       "</table>\n",
       "</div>"
      ],
      "text/plain": [
       "   id    loan_amnt  term  interest_rate grade  employment_length  \\\n",
       "0   0   609.296068     3       8.421982    A5                  0   \n",
       "1   1  1183.266999     5      10.286776    B1                  1   \n",
       "2   2   695.783256     3      14.723425    C2                  1   \n",
       "3   3   738.392546     3      14.260708    C1                  0   \n",
       "4   4  1642.400654     5      25.217452    E5                  1   \n",
       "\n",
       "              purpose  credit_score application_type  loan_status  \n",
       "0  debt_consolidation    714.061803       Individual          0.0  \n",
       "1         credit_card    697.706701       Individual          1.0  \n",
       "2  debt_consolidation    656.419357       Individual          0.0  \n",
       "3         credit_card    657.906852       Individual          0.0  \n",
       "4  debt_consolidation    662.972297       Individual          0.0  "
      ]
     },
     "execution_count": 29,
     "metadata": {},
     "output_type": "execute_result"
    }
   ],
   "source": [
    "df.head()"
   ]
  },
  {
   "cell_type": "code",
   "execution_count": 30,
   "metadata": {},
   "outputs": [],
   "source": [
    "# # ラベルエンコーディング('grade', 'application_type')\n",
    "from sklearn.preprocessing import LabelEncoder\n",
    "le = LabelEncoder()\n",
    "df['grade'] = le.fit_transform(df['grade'].values)\n",
    "# df['purpose'] = le.fit_transform(df['purpose'].values)\n",
    "df['application_type'] = le.fit_transform(df['application_type'].values)\n",
    "# df.head()"
   ]
  },
  {
   "cell_type": "code",
   "execution_count": 31,
   "metadata": {},
   "outputs": [
    {
     "name": "stdout",
     "output_type": "stream",
     "text": [
      "Individual => 0\n",
      "Joint App => 1\n"
     ]
    }
   ],
   "source": [
    "for label, integer in zip(le.classes_, le.transform(le.classes_)):\n",
    "    print(f\"{label} => {integer}\")"
   ]
  },
  {
   "cell_type": "code",
   "execution_count": 32,
   "metadata": {},
   "outputs": [
    {
     "data": {
      "text/html": [
       "<div>\n",
       "<style scoped>\n",
       "    .dataframe tbody tr th:only-of-type {\n",
       "        vertical-align: middle;\n",
       "    }\n",
       "\n",
       "    .dataframe tbody tr th {\n",
       "        vertical-align: top;\n",
       "    }\n",
       "\n",
       "    .dataframe thead th {\n",
       "        text-align: right;\n",
       "    }\n",
       "</style>\n",
       "<table border=\"1\" class=\"dataframe\">\n",
       "  <thead>\n",
       "    <tr style=\"text-align: right;\">\n",
       "      <th></th>\n",
       "      <th>id</th>\n",
       "      <th>loan_amnt</th>\n",
       "      <th>term</th>\n",
       "      <th>interest_rate</th>\n",
       "      <th>grade</th>\n",
       "      <th>employment_length</th>\n",
       "      <th>credit_score</th>\n",
       "      <th>application_type</th>\n",
       "      <th>loan_status</th>\n",
       "      <th>purpose_car</th>\n",
       "      <th>purpose_credit_card</th>\n",
       "      <th>purpose_debt_consolidation</th>\n",
       "      <th>purpose_home_improvement</th>\n",
       "      <th>purpose_house</th>\n",
       "      <th>purpose_major_purchase</th>\n",
       "      <th>purpose_medical</th>\n",
       "      <th>purpose_other</th>\n",
       "      <th>purpose_small_business</th>\n",
       "    </tr>\n",
       "  </thead>\n",
       "  <tbody>\n",
       "    <tr>\n",
       "      <th>0</th>\n",
       "      <td>0</td>\n",
       "      <td>609.296068</td>\n",
       "      <td>3</td>\n",
       "      <td>8.421982</td>\n",
       "      <td>4</td>\n",
       "      <td>0</td>\n",
       "      <td>714.061803</td>\n",
       "      <td>0</td>\n",
       "      <td>0.0</td>\n",
       "      <td>0</td>\n",
       "      <td>0</td>\n",
       "      <td>1</td>\n",
       "      <td>0</td>\n",
       "      <td>0</td>\n",
       "      <td>0</td>\n",
       "      <td>0</td>\n",
       "      <td>0</td>\n",
       "      <td>0</td>\n",
       "    </tr>\n",
       "    <tr>\n",
       "      <th>1</th>\n",
       "      <td>1</td>\n",
       "      <td>1183.266999</td>\n",
       "      <td>5</td>\n",
       "      <td>10.286776</td>\n",
       "      <td>5</td>\n",
       "      <td>1</td>\n",
       "      <td>697.706701</td>\n",
       "      <td>0</td>\n",
       "      <td>1.0</td>\n",
       "      <td>0</td>\n",
       "      <td>1</td>\n",
       "      <td>0</td>\n",
       "      <td>0</td>\n",
       "      <td>0</td>\n",
       "      <td>0</td>\n",
       "      <td>0</td>\n",
       "      <td>0</td>\n",
       "      <td>0</td>\n",
       "    </tr>\n",
       "    <tr>\n",
       "      <th>2</th>\n",
       "      <td>2</td>\n",
       "      <td>695.783256</td>\n",
       "      <td>3</td>\n",
       "      <td>14.723425</td>\n",
       "      <td>11</td>\n",
       "      <td>1</td>\n",
       "      <td>656.419357</td>\n",
       "      <td>0</td>\n",
       "      <td>0.0</td>\n",
       "      <td>0</td>\n",
       "      <td>0</td>\n",
       "      <td>1</td>\n",
       "      <td>0</td>\n",
       "      <td>0</td>\n",
       "      <td>0</td>\n",
       "      <td>0</td>\n",
       "      <td>0</td>\n",
       "      <td>0</td>\n",
       "    </tr>\n",
       "    <tr>\n",
       "      <th>3</th>\n",
       "      <td>3</td>\n",
       "      <td>738.392546</td>\n",
       "      <td>3</td>\n",
       "      <td>14.260708</td>\n",
       "      <td>10</td>\n",
       "      <td>0</td>\n",
       "      <td>657.906852</td>\n",
       "      <td>0</td>\n",
       "      <td>0.0</td>\n",
       "      <td>0</td>\n",
       "      <td>1</td>\n",
       "      <td>0</td>\n",
       "      <td>0</td>\n",
       "      <td>0</td>\n",
       "      <td>0</td>\n",
       "      <td>0</td>\n",
       "      <td>0</td>\n",
       "      <td>0</td>\n",
       "    </tr>\n",
       "    <tr>\n",
       "      <th>4</th>\n",
       "      <td>4</td>\n",
       "      <td>1642.400654</td>\n",
       "      <td>5</td>\n",
       "      <td>25.217452</td>\n",
       "      <td>24</td>\n",
       "      <td>1</td>\n",
       "      <td>662.972297</td>\n",
       "      <td>0</td>\n",
       "      <td>0.0</td>\n",
       "      <td>0</td>\n",
       "      <td>0</td>\n",
       "      <td>1</td>\n",
       "      <td>0</td>\n",
       "      <td>0</td>\n",
       "      <td>0</td>\n",
       "      <td>0</td>\n",
       "      <td>0</td>\n",
       "      <td>0</td>\n",
       "    </tr>\n",
       "  </tbody>\n",
       "</table>\n",
       "</div>"
      ],
      "text/plain": [
       "   id    loan_amnt  term  interest_rate  grade  employment_length  \\\n",
       "0   0   609.296068     3       8.421982      4                  0   \n",
       "1   1  1183.266999     5      10.286776      5                  1   \n",
       "2   2   695.783256     3      14.723425     11                  1   \n",
       "3   3   738.392546     3      14.260708     10                  0   \n",
       "4   4  1642.400654     5      25.217452     24                  1   \n",
       "\n",
       "   credit_score  application_type  loan_status  purpose_car  \\\n",
       "0    714.061803                 0          0.0            0   \n",
       "1    697.706701                 0          1.0            0   \n",
       "2    656.419357                 0          0.0            0   \n",
       "3    657.906852                 0          0.0            0   \n",
       "4    662.972297                 0          0.0            0   \n",
       "\n",
       "   purpose_credit_card  purpose_debt_consolidation  purpose_home_improvement  \\\n",
       "0                    0                           1                         0   \n",
       "1                    1                           0                         0   \n",
       "2                    0                           1                         0   \n",
       "3                    1                           0                         0   \n",
       "4                    0                           1                         0   \n",
       "\n",
       "   purpose_house  purpose_major_purchase  purpose_medical  purpose_other  \\\n",
       "0              0                       0                0              0   \n",
       "1              0                       0                0              0   \n",
       "2              0                       0                0              0   \n",
       "3              0                       0                0              0   \n",
       "4              0                       0                0              0   \n",
       "\n",
       "   purpose_small_business  \n",
       "0                       0  \n",
       "1                       0  \n",
       "2                       0  \n",
       "3                       0  \n",
       "4                       0  "
      ]
     },
     "execution_count": 32,
     "metadata": {},
     "output_type": "execute_result"
    }
   ],
   "source": [
    "# ダミー化('purpose')\n",
    "df = pd.get_dummies(df)\n",
    "df.head()"
   ]
  },
  {
   "cell_type": "code",
   "execution_count": 33,
   "metadata": {},
   "outputs": [
    {
     "data": {
      "image/png": "[encoded data removed]",
      "text/plain": [
       "<Figure size 1500x1500 with 2 Axes>"
      ]
     },
     "metadata": {},
     "output_type": "display_data"
    }
   ],
   "source": [
    "# 特徴量エンジニアリング後にもう一度相関を見てみる(多重共線性が疑われる特徴量がある気がする)\n",
    "sns.set_context(\"talk\")\n",
    "fig = plt.subplots(figsize=(15, 15))\n",
    "sns.heatmap(train.corr(), annot=True, fmt='.2f', cmap='Blues', square=True);"
   ]
  },
  {
   "cell_type": "markdown",
   "metadata": {},
   "source": [
    "層が分かれている特徴量をクラスタリングorビン化で処理する->後で"
   ]
  },
  {
   "cell_type": "code",
   "execution_count": 34,
   "metadata": {},
   "outputs": [
    {
     "data": {
      "text/plain": [
       "2    75924\n",
       "1    69090\n",
       "3    48954\n",
       "4    47139\n",
       "5    27943\n",
       "Name: categorized_loan_amnt, dtype: int64"
      ]
     },
     "execution_count": 34,
     "metadata": {},
     "output_type": "execute_result"
    }
   ],
   "source": [
    "# ビン化で数値データをクラス化する('loan_amnt')\n",
    "def categorize_value(value):\n",
    "    if value < 800:\n",
    "        return 1\n",
    "    elif value < 1300:\n",
    "        return 2\n",
    "    elif value < 1800:\n",
    "        return 3\n",
    "    elif value < 2800:\n",
    "        return 4\n",
    "    else:\n",
    "        return 5\n",
    "    \n",
    "df['categorized_loan_amnt'] = [categorize_value(value) for value in df['loan_amnt']]\n",
    "df['categorized_loan_amnt'].value_counts()"
   ]
  },
  {
   "cell_type": "code",
   "execution_count": 35,
   "metadata": {},
   "outputs": [
    {
     "data": {
      "text/plain": [
       "3    82315\n",
       "2    54791\n",
       "4    54267\n",
       "1    52648\n",
       "5    25029\n",
       "Name: categorized_interest_rate, dtype: int64"
      ]
     },
     "execution_count": 35,
     "metadata": {},
     "output_type": "execute_result"
    }
   ],
   "source": [
    "# ビン化で数値データをクラス化する('interest_rate')\n",
    "def categorize_value(value):\n",
    "    if value < 10:\n",
    "        return 1\n",
    "    elif value < 12:\n",
    "        return 2\n",
    "    elif value < 15:\n",
    "        return 3\n",
    "    elif value < 20:\n",
    "        return 4\n",
    "    else:\n",
    "        return 5\n",
    "    \n",
    "df['categorized_interest_rate'] = [categorize_value(value) for value in df['interest_rate']]\n",
    "df['categorized_interest_rate'].value_counts()"
   ]
  },
  {
   "cell_type": "code",
   "execution_count": 36,
   "metadata": {},
   "outputs": [
    {
     "data": {
      "text/plain": [
       "1    119194\n",
       "2     56672\n",
       "3     49284\n",
       "4     31117\n",
       "5     12783\n",
       "Name: categorized_credit_score, dtype: int64"
      ]
     },
     "execution_count": 36,
     "metadata": {},
     "output_type": "execute_result"
    }
   ],
   "source": [
    "# ビン化で数値データをクラス化する('credit_score')\n",
    "def categorize_value(value):\n",
    "    if value < 670:\n",
    "        return 1\n",
    "    elif value < 690:\n",
    "        return 2\n",
    "    elif value < 710:\n",
    "        return 3\n",
    "    elif value < 740:\n",
    "        return 4\n",
    "    else:\n",
    "        return 5\n",
    "    \n",
    "df['categorized_credit_score'] = [categorize_value(value) for value in df['credit_score']]\n",
    "df['categorized_credit_score'].value_counts()"
   ]
  },
  {
   "cell_type": "code",
   "execution_count": 37,
   "metadata": {},
   "outputs": [],
   "source": [
    "# # categorizeする前の特徴量（'loan_amnt', 'interest_rate', 'credit_score'）は削除する\n",
    "# df = df.drop(['loan_amnt', 'interest_rate', 'credit_score'], axis=1)\n",
    "\n",
    "# df.head()"
   ]
  },
  {
   "cell_type": "code",
   "execution_count": 38,
   "metadata": {},
   "outputs": [],
   "source": [
    "# # categorizeした後にもう一度分布状況を確認する\n",
    "# fig, axs = plt.subplots(ncols=3, nrows=1, figsize=(20, 10))\n",
    "# index = 0\n",
    "# axs = axs.flatten()\n",
    "# for k, v in df[['categorized_loan_amnt', 'categorized_interest_rate', 'categorized_credit_score']].items():\n",
    "#     sns.distplot(v, ax=axs[index])\n",
    "#     index += 1\n",
    "# plt.tight_layout(pad=0.4, w_pad=0.5, h_pad=0.5);"
   ]
  },
  {
   "cell_type": "code",
   "execution_count": 39,
   "metadata": {},
   "outputs": [],
   "source": [
    "# # クラスタリング->エラーが出るのでひとまず後で試す\n",
    "# from sklearn.cluster import KMeans\n",
    "# n_clusters = 5 #この数は確率密度分布の可視化から目視で確認した\n",
    "\n",
    "# kmeans = KMeans(n_clusters=n_clusters)\n",
    "# kmeans.fit(df[[\"loan_amnt\", \"interest_rate\", \"credit_score\"]])\n",
    "\n",
    "# clusters = kmeans.predict(df[[\"loan_amnt\", \"interest_rate\", \"credit_score\"]])\n",
    "\n",
    "# # クラスタリング結果を表示\n",
    "# for i in range(n_clusters):\n",
    "#     cluster_df = df[clusters == i]\n",
    "#     print(f'Cluster {i+1}: {cluster_df}')\n",
    "\n",
    "# # クラスタリング結果をプロット\n",
    "# plt.scatter(df, np.zeros_like(df), c=clusters, cmap='viridis')\n",
    "# plt.xlabel('df')\n",
    "# plt.show()"
   ]
  },
  {
   "cell_type": "code",
   "execution_count": 40,
   "metadata": {},
   "outputs": [],
   "source": [
    "# # id列に対してtarget-encodingを適用\n",
    "# from sklearn.preprocessing import TargetEncoder\n",
    "# X = train['id']\n",
    "# y = train['loan_status']\n",
    "# encoder = TargetEncoder()\n",
    "# encoder.fit(X, y)\n",
    "# train['id'] = encoder.transform(X)\n",
    "# test['id'] = encoder.transform(test['id'])"
   ]
  },
  {
   "cell_type": "code",
   "execution_count": 41,
   "metadata": {},
   "outputs": [],
   "source": [
    "# ヒストグラムが多峰型の特徴量を外してみる\n"
   ]
  },
  {
   "cell_type": "code",
   "execution_count": 42,
   "metadata": {},
   "outputs": [],
   "source": [
    "# dfをtrainとtestに戻す\n",
    "train = df[df['id'] <= 242149]\n",
    "test = df[df['id'] >= 242150]\n",
    "test = test.drop('loan_status', axis=1)"
   ]
  },
  {
   "cell_type": "code",
   "execution_count": 43,
   "metadata": {},
   "outputs": [
    {
     "data": {
      "text/html": [
       "<div>\n",
       "<style scoped>\n",
       "    .dataframe tbody tr th:only-of-type {\n",
       "        vertical-align: middle;\n",
       "    }\n",
       "\n",
       "    .dataframe tbody tr th {\n",
       "        vertical-align: top;\n",
       "    }\n",
       "\n",
       "    .dataframe thead th {\n",
       "        text-align: right;\n",
       "    }\n",
       "</style>\n",
       "<table border=\"1\" class=\"dataframe\">\n",
       "  <thead>\n",
       "    <tr style=\"text-align: right;\">\n",
       "      <th></th>\n",
       "      <th>loan_amnt</th>\n",
       "      <th>term</th>\n",
       "      <th>interest_rate</th>\n",
       "      <th>grade</th>\n",
       "      <th>employment_length</th>\n",
       "      <th>credit_score</th>\n",
       "      <th>application_type</th>\n",
       "      <th>loan_status</th>\n",
       "      <th>purpose_car</th>\n",
       "      <th>purpose_credit_card</th>\n",
       "      <th>purpose_debt_consolidation</th>\n",
       "      <th>purpose_home_improvement</th>\n",
       "      <th>purpose_house</th>\n",
       "      <th>purpose_major_purchase</th>\n",
       "      <th>purpose_medical</th>\n",
       "      <th>purpose_other</th>\n",
       "      <th>purpose_small_business</th>\n",
       "      <th>categorized_loan_amnt</th>\n",
       "      <th>categorized_interest_rate</th>\n",
       "      <th>categorized_credit_score</th>\n",
       "    </tr>\n",
       "  </thead>\n",
       "  <tbody>\n",
       "    <tr>\n",
       "      <th>0</th>\n",
       "      <td>609.296068</td>\n",
       "      <td>3</td>\n",
       "      <td>8.421982</td>\n",
       "      <td>4</td>\n",
       "      <td>0</td>\n",
       "      <td>714.061803</td>\n",
       "      <td>0</td>\n",
       "      <td>0.0</td>\n",
       "      <td>0</td>\n",
       "      <td>0</td>\n",
       "      <td>1</td>\n",
       "      <td>0</td>\n",
       "      <td>0</td>\n",
       "      <td>0</td>\n",
       "      <td>0</td>\n",
       "      <td>0</td>\n",
       "      <td>0</td>\n",
       "      <td>1</td>\n",
       "      <td>1</td>\n",
       "      <td>4</td>\n",
       "    </tr>\n",
       "    <tr>\n",
       "      <th>1</th>\n",
       "      <td>1183.266999</td>\n",
       "      <td>5</td>\n",
       "      <td>10.286776</td>\n",
       "      <td>5</td>\n",
       "      <td>1</td>\n",
       "      <td>697.706701</td>\n",
       "      <td>0</td>\n",
       "      <td>1.0</td>\n",
       "      <td>0</td>\n",
       "      <td>1</td>\n",
       "      <td>0</td>\n",
       "      <td>0</td>\n",
       "      <td>0</td>\n",
       "      <td>0</td>\n",
       "      <td>0</td>\n",
       "      <td>0</td>\n",
       "      <td>0</td>\n",
       "      <td>2</td>\n",
       "      <td>2</td>\n",
       "      <td>3</td>\n",
       "    </tr>\n",
       "    <tr>\n",
       "      <th>2</th>\n",
       "      <td>695.783256</td>\n",
       "      <td>3</td>\n",
       "      <td>14.723425</td>\n",
       "      <td>11</td>\n",
       "      <td>1</td>\n",
       "      <td>656.419357</td>\n",
       "      <td>0</td>\n",
       "      <td>0.0</td>\n",
       "      <td>0</td>\n",
       "      <td>0</td>\n",
       "      <td>1</td>\n",
       "      <td>0</td>\n",
       "      <td>0</td>\n",
       "      <td>0</td>\n",
       "      <td>0</td>\n",
       "      <td>0</td>\n",
       "      <td>0</td>\n",
       "      <td>1</td>\n",
       "      <td>3</td>\n",
       "      <td>1</td>\n",
       "    </tr>\n",
       "    <tr>\n",
       "      <th>3</th>\n",
       "      <td>738.392546</td>\n",
       "      <td>3</td>\n",
       "      <td>14.260708</td>\n",
       "      <td>10</td>\n",
       "      <td>0</td>\n",
       "      <td>657.906852</td>\n",
       "      <td>0</td>\n",
       "      <td>0.0</td>\n",
       "      <td>0</td>\n",
       "      <td>1</td>\n",
       "      <td>0</td>\n",
       "      <td>0</td>\n",
       "      <td>0</td>\n",
       "      <td>0</td>\n",
       "      <td>0</td>\n",
       "      <td>0</td>\n",
       "      <td>0</td>\n",
       "      <td>1</td>\n",
       "      <td>3</td>\n",
       "      <td>1</td>\n",
       "    </tr>\n",
       "    <tr>\n",
       "      <th>4</th>\n",
       "      <td>1642.400654</td>\n",
       "      <td>5</td>\n",
       "      <td>25.217452</td>\n",
       "      <td>24</td>\n",
       "      <td>1</td>\n",
       "      <td>662.972297</td>\n",
       "      <td>0</td>\n",
       "      <td>0.0</td>\n",
       "      <td>0</td>\n",
       "      <td>0</td>\n",
       "      <td>1</td>\n",
       "      <td>0</td>\n",
       "      <td>0</td>\n",
       "      <td>0</td>\n",
       "      <td>0</td>\n",
       "      <td>0</td>\n",
       "      <td>0</td>\n",
       "      <td>3</td>\n",
       "      <td>5</td>\n",
       "      <td>1</td>\n",
       "    </tr>\n",
       "  </tbody>\n",
       "</table>\n",
       "</div>"
      ],
      "text/plain": [
       "     loan_amnt  term  interest_rate  grade  employment_length  credit_score  \\\n",
       "0   609.296068     3       8.421982      4                  0    714.061803   \n",
       "1  1183.266999     5      10.286776      5                  1    697.706701   \n",
       "2   695.783256     3      14.723425     11                  1    656.419357   \n",
       "3   738.392546     3      14.260708     10                  0    657.906852   \n",
       "4  1642.400654     5      25.217452     24                  1    662.972297   \n",
       "\n",
       "   application_type  loan_status  purpose_car  purpose_credit_card  \\\n",
       "0                 0          0.0            0                    0   \n",
       "1                 0          1.0            0                    1   \n",
       "2                 0          0.0            0                    0   \n",
       "3                 0          0.0            0                    1   \n",
       "4                 0          0.0            0                    0   \n",
       "\n",
       "   purpose_debt_consolidation  purpose_home_improvement  purpose_house  \\\n",
       "0                           1                         0              0   \n",
       "1                           0                         0              0   \n",
       "2                           1                         0              0   \n",
       "3                           0                         0              0   \n",
       "4                           1                         0              0   \n",
       "\n",
       "   purpose_major_purchase  purpose_medical  purpose_other  \\\n",
       "0                       0                0              0   \n",
       "1                       0                0              0   \n",
       "2                       0                0              0   \n",
       "3                       0                0              0   \n",
       "4                       0                0              0   \n",
       "\n",
       "   purpose_small_business  categorized_loan_amnt  categorized_interest_rate  \\\n",
       "0                       0                      1                          1   \n",
       "1                       0                      2                          2   \n",
       "2                       0                      1                          3   \n",
       "3                       0                      1                          3   \n",
       "4                       0                      3                          5   \n",
       "\n",
       "   categorized_credit_score  \n",
       "0                         4  \n",
       "1                         3  \n",
       "2                         1  \n",
       "3                         1  \n",
       "4                         1  "
      ]
     },
     "execution_count": 43,
     "metadata": {},
     "output_type": "execute_result"
    }
   ],
   "source": [
    "# idをドロップする\n",
    "train = train.drop('id', axis=1)\n",
    "train.head()"
   ]
  },
  {
   "cell_type": "code",
   "execution_count": 44,
   "metadata": {},
   "outputs": [
    {
     "data": {
      "text/html": [
       "<div>\n",
       "<style scoped>\n",
       "    .dataframe tbody tr th:only-of-type {\n",
       "        vertical-align: middle;\n",
       "    }\n",
       "\n",
       "    .dataframe tbody tr th {\n",
       "        vertical-align: top;\n",
       "    }\n",
       "\n",
       "    .dataframe thead th {\n",
       "        text-align: right;\n",
       "    }\n",
       "</style>\n",
       "<table border=\"1\" class=\"dataframe\">\n",
       "  <thead>\n",
       "    <tr style=\"text-align: right;\">\n",
       "      <th></th>\n",
       "      <th>loan_amnt</th>\n",
       "      <th>term</th>\n",
       "      <th>interest_rate</th>\n",
       "      <th>grade</th>\n",
       "      <th>employment_length</th>\n",
       "      <th>credit_score</th>\n",
       "      <th>application_type</th>\n",
       "      <th>purpose_car</th>\n",
       "      <th>purpose_credit_card</th>\n",
       "      <th>purpose_debt_consolidation</th>\n",
       "      <th>purpose_home_improvement</th>\n",
       "      <th>purpose_house</th>\n",
       "      <th>purpose_major_purchase</th>\n",
       "      <th>purpose_medical</th>\n",
       "      <th>purpose_other</th>\n",
       "      <th>purpose_small_business</th>\n",
       "      <th>categorized_loan_amnt</th>\n",
       "      <th>categorized_interest_rate</th>\n",
       "      <th>categorized_credit_score</th>\n",
       "    </tr>\n",
       "  </thead>\n",
       "  <tbody>\n",
       "    <tr>\n",
       "      <th>0</th>\n",
       "      <td>1161.830205</td>\n",
       "      <td>3</td>\n",
       "      <td>13.105362</td>\n",
       "      <td>10</td>\n",
       "      <td>1</td>\n",
       "      <td>682.016083</td>\n",
       "      <td>0</td>\n",
       "      <td>0</td>\n",
       "      <td>1</td>\n",
       "      <td>0</td>\n",
       "      <td>0</td>\n",
       "      <td>0</td>\n",
       "      <td>0</td>\n",
       "      <td>0</td>\n",
       "      <td>0</td>\n",
       "      <td>0</td>\n",
       "      <td>2</td>\n",
       "      <td>3</td>\n",
       "      <td>2</td>\n",
       "    </tr>\n",
       "    <tr>\n",
       "      <th>1</th>\n",
       "      <td>2257.465815</td>\n",
       "      <td>5</td>\n",
       "      <td>14.196200</td>\n",
       "      <td>14</td>\n",
       "      <td>1</td>\n",
       "      <td>668.240313</td>\n",
       "      <td>0</td>\n",
       "      <td>0</td>\n",
       "      <td>0</td>\n",
       "      <td>1</td>\n",
       "      <td>0</td>\n",
       "      <td>0</td>\n",
       "      <td>0</td>\n",
       "      <td>0</td>\n",
       "      <td>0</td>\n",
       "      <td>0</td>\n",
       "      <td>4</td>\n",
       "      <td>3</td>\n",
       "      <td>1</td>\n",
       "    </tr>\n",
       "    <tr>\n",
       "      <th>2</th>\n",
       "      <td>2182.137002</td>\n",
       "      <td>3</td>\n",
       "      <td>8.307772</td>\n",
       "      <td>4</td>\n",
       "      <td>1</td>\n",
       "      <td>703.277694</td>\n",
       "      <td>0</td>\n",
       "      <td>0</td>\n",
       "      <td>1</td>\n",
       "      <td>0</td>\n",
       "      <td>0</td>\n",
       "      <td>0</td>\n",
       "      <td>0</td>\n",
       "      <td>0</td>\n",
       "      <td>0</td>\n",
       "      <td>0</td>\n",
       "      <td>4</td>\n",
       "      <td>1</td>\n",
       "      <td>3</td>\n",
       "    </tr>\n",
       "    <tr>\n",
       "      <th>3</th>\n",
       "      <td>520.284912</td>\n",
       "      <td>3</td>\n",
       "      <td>6.956504</td>\n",
       "      <td>1</td>\n",
       "      <td>7</td>\n",
       "      <td>731.138779</td>\n",
       "      <td>0</td>\n",
       "      <td>0</td>\n",
       "      <td>0</td>\n",
       "      <td>1</td>\n",
       "      <td>0</td>\n",
       "      <td>0</td>\n",
       "      <td>0</td>\n",
       "      <td>0</td>\n",
       "      <td>0</td>\n",
       "      <td>0</td>\n",
       "      <td>1</td>\n",
       "      <td>1</td>\n",
       "      <td>4</td>\n",
       "    </tr>\n",
       "    <tr>\n",
       "      <th>4</th>\n",
       "      <td>2303.349549</td>\n",
       "      <td>3</td>\n",
       "      <td>11.658497</td>\n",
       "      <td>7</td>\n",
       "      <td>6</td>\n",
       "      <td>698.368991</td>\n",
       "      <td>0</td>\n",
       "      <td>0</td>\n",
       "      <td>0</td>\n",
       "      <td>1</td>\n",
       "      <td>0</td>\n",
       "      <td>0</td>\n",
       "      <td>0</td>\n",
       "      <td>0</td>\n",
       "      <td>0</td>\n",
       "      <td>0</td>\n",
       "      <td>4</td>\n",
       "      <td>2</td>\n",
       "      <td>3</td>\n",
       "    </tr>\n",
       "  </tbody>\n",
       "</table>\n",
       "</div>"
      ],
      "text/plain": [
       "     loan_amnt  term  interest_rate  grade  employment_length  credit_score  \\\n",
       "0  1161.830205     3      13.105362     10                  1    682.016083   \n",
       "1  2257.465815     5      14.196200     14                  1    668.240313   \n",
       "2  2182.137002     3       8.307772      4                  1    703.277694   \n",
       "3   520.284912     3       6.956504      1                  7    731.138779   \n",
       "4  2303.349549     3      11.658497      7                  6    698.368991   \n",
       "\n",
       "   application_type  purpose_car  purpose_credit_card  \\\n",
       "0                 0            0                    1   \n",
       "1                 0            0                    0   \n",
       "2                 0            0                    1   \n",
       "3                 0            0                    0   \n",
       "4                 0            0                    0   \n",
       "\n",
       "   purpose_debt_consolidation  purpose_home_improvement  purpose_house  \\\n",
       "0                           0                         0              0   \n",
       "1                           1                         0              0   \n",
       "2                           0                         0              0   \n",
       "3                           1                         0              0   \n",
       "4                           1                         0              0   \n",
       "\n",
       "   purpose_major_purchase  purpose_medical  purpose_other  \\\n",
       "0                       0                0              0   \n",
       "1                       0                0              0   \n",
       "2                       0                0              0   \n",
       "3                       0                0              0   \n",
       "4                       0                0              0   \n",
       "\n",
       "   purpose_small_business  categorized_loan_amnt  categorized_interest_rate  \\\n",
       "0                       0                      2                          3   \n",
       "1                       0                      4                          3   \n",
       "2                       0                      4                          1   \n",
       "3                       0                      1                          1   \n",
       "4                       0                      4                          2   \n",
       "\n",
       "   categorized_credit_score  \n",
       "0                         2  \n",
       "1                         1  \n",
       "2                         3  \n",
       "3                         4  \n",
       "4                         3  "
      ]
     },
     "execution_count": 44,
     "metadata": {},
     "output_type": "execute_result"
    }
   ],
   "source": [
    "# idをドロップする\n",
    "test = test.drop('id', axis=1)\n",
    "test.head()"
   ]
  },
  {
   "cell_type": "markdown",
   "metadata": {},
   "source": [
    "vif統計量を計算して多重共線性を判断してみる"
   ]
  },
  {
   "cell_type": "code",
   "execution_count": 45,
   "metadata": {},
   "outputs": [],
   "source": [
    "# X = train.iloc[:, 0:-1]\n",
    "# y = train['loan_status']\n",
    "\n",
    "# X"
   ]
  },
  {
   "cell_type": "code",
   "execution_count": 46,
   "metadata": {},
   "outputs": [],
   "source": [
    "# from statsmodels.stats.outliers_influence import variance_inflation_factor\n",
    "\n",
    "# vif = pd.DataFrame()\n",
    "# vif[\"VIF Factor\"] = [variance_inflation_factor(X.values, i) for i in range(X.shape[1])]\n",
    "# vif[\"features\"] = X.columns\n",
    "\n",
    "# print(vif)"
   ]
  },
  {
   "cell_type": "markdown",
   "metadata": {},
   "source": [
    "多重共線性が疑われる特徴量を削除してみる(基準：vif 100 以上)"
   ]
  },
  {
   "cell_type": "code",
   "execution_count": 47,
   "metadata": {},
   "outputs": [],
   "source": [
    "# train = train.drop(['credit_score'], axis=1)\n",
    "# train.head()"
   ]
  },
  {
   "cell_type": "code",
   "execution_count": 48,
   "metadata": {},
   "outputs": [],
   "source": [
    "# test = test.drop(['credit_score'], axis=1)\n",
    "# test.head()"
   ]
  },
  {
   "cell_type": "code",
   "execution_count": 49,
   "metadata": {},
   "outputs": [],
   "source": [
    "# # K-fold target encoding->今回は使用しない\n",
    "# from sklearn import base\n",
    "# from sklearn.model_selection import KFold\n",
    "\n",
    "# class KFoldTargetEncoderTrain(base.BaseEstimator,\n",
    "#                             base.TransformerMixin):\n",
    "#     \"\"\"How to use.\n",
    "#     targetc = KFoldTargetEncoderTrain('Feature','Target',n_fold=10)\n",
    "#     new_train = targetc.fit_transform(train)\n",
    "#     \"\"\"\n",
    "#     def __init__(self,colnames,targetName,\n",
    "#                 n_fold=10, verbosity=True,\n",
    "#                 discardOriginal_col=False):\n",
    "#         self.colnames = colnames\n",
    "#         self.targetName = targetName\n",
    "#         self.n_fold = n_fold\n",
    "#         self.verbosity = verbosity\n",
    "#         self.discardOriginal_col = discardOriginal_col\n",
    "\n",
    "#     def fit(self, X, y=None):\n",
    "#         return self\n",
    "\n",
    "#     def transform(self,X):        \n",
    "#         assert(type(self.targetName) == str)\n",
    "#         assert(type(self.colnames) == str)\n",
    "#         assert(self.colnames in X.columns)\n",
    "#         assert(self.targetName in X.columns)       \n",
    "\n",
    "#         mean_of_target = X[self.targetName].mean()\n",
    "#         kf = KFold(n_splits = self.n_fold,\n",
    "#                     shuffle = True, random_state=2019)        \n",
    "#         col_mean_name = self.colnames + '_' + 'Kfold_Target_Enc'\n",
    "#         X[col_mean_name] = np.nan       \n",
    "\n",
    "#         for tr_ind, val_ind in kf.split(X):\n",
    "#             X_tr, X_val = X.iloc[tr_ind], X.iloc[val_ind]\n",
    "#             X.loc[X.index[val_ind], col_mean_name] = X_val[self.colnames].map(X_tr.groupby(self.colnames)[self.targetName].mean())\n",
    "#             X[col_mean_name].fillna(mean_of_target, inplace = True)  # nanになってしまったところは平均値で埋める --(1)\n",
    "\n",
    "#         if self.verbosity:            \n",
    "#             encoded_feature = X[col_mean_name].values\n",
    "#             print('Correlation between the new feature, {} and, {} is {}.'.format(col_mean_name,self.targetName, \n",
    "#                                                                                 np.corrcoef(X[self.targetName].values,encoded_feature)[0][1]))\n",
    "#         if self.discardOriginal_col:\n",
    "#             X = X.drop(self.targetName, axis=1)\n",
    "#         return X\n",
    "\n",
    "\n",
    "# class TargetEncoderTest(base.BaseEstimator, base.TransformerMixin):\n",
    "#     \"\"\"How to use.\n",
    "#     test_targetc = TargetEncoderTest(new_train,\n",
    "#                                     'Feature',\n",
    "#                                     'Feature_Kfold_Target_Enc')\n",
    "#     new_test = test_targetc.fit_transform(test)\n",
    "#     \"\"\"\n",
    "\n",
    "#     def __init__(self,train,colNames,encodedName):\n",
    "\n",
    "#         self.train = train\n",
    "#         self.colNames = colNames\n",
    "#         self.encodedName = encodedName\n",
    "\n",
    "#     def fit(self, X, y=None):\n",
    "#         return self\n",
    "\n",
    "#     def transform(self,X):       \n",
    "#         mean =  self.train[[self.colNames, self.encodedName]].groupby(self.colNames).mean().reset_index() \n",
    "\n",
    "#         dd = {}\n",
    "#         for index, row in mean.iterrows():\n",
    "#             dd[row[self.colNames]] = row[self.encodedName]\n",
    "#             X[self.encodedName] = X[self.colNames]\n",
    "#         X = X.replace({self.encodedName: dd})\n",
    "#         return X\n"
   ]
  },
  {
   "cell_type": "code",
   "execution_count": 50,
   "metadata": {},
   "outputs": [],
   "source": [
    "# # idをtarget encoding\n",
    "# targetc = KFoldTargetEncoderTrain('id', 'loan_status', n_fold=5)\n",
    "# train = targetc.fit_transform(train)\n",
    "\n",
    "# test_targetc = TargetEncoderTest(train, 'id', 'id_Kfold_Target_Enc')\n",
    "# test = test_targetc.fit_transform(test)\n"
   ]
  },
  {
   "cell_type": "code",
   "execution_count": 51,
   "metadata": {},
   "outputs": [],
   "source": [
    "# # gradeをtarget encoding\n",
    "# targetc = KFoldTargetEncoderTrain('grade', 'loan_status', n_fold=10)\n",
    "# train = targetc.fit_transform(train)\n",
    "\n",
    "# test_targetc = TargetEncoderTest(train, 'grade', 'grade_Kfold_Target_Enc')\n",
    "# test = test_targetc.fit_transform(test)\n"
   ]
  },
  {
   "cell_type": "code",
   "execution_count": 52,
   "metadata": {},
   "outputs": [],
   "source": [
    "# # purposeをtarget encoding\n",
    "# targetc = KFoldTargetEncoderTrain('purpose', 'loan_status', n_fold=10)\n",
    "# train = targetc.fit_transform(train)\n",
    "\n",
    "# test_targetc = TargetEncoderTest(train, 'purpose', 'purpose_Kfold_Target_Enc')\n",
    "# test = test_targetc.fit_transform(test)"
   ]
  },
  {
   "cell_type": "code",
   "execution_count": 53,
   "metadata": {},
   "outputs": [],
   "source": [
    "# # application typeをtarget encoding\n",
    "# targetc = KFoldTargetEncoderTrain('application_type', 'loan_status', n_fold=10)\n",
    "# train = targetc.fit_transform(train)\n",
    "\n",
    "# test_targetc = TargetEncoderTest(train, 'application_type', 'application_type_Kfold_Target_Enc')\n",
    "# test = test_targetc.fit_transform(test)"
   ]
  },
  {
   "cell_type": "code",
   "execution_count": 54,
   "metadata": {},
   "outputs": [],
   "source": [
    "# # train = train.drop('grade', axis=1)\n",
    "# train = train.drop('purpose', axis=1)\n",
    "# # train = train.drop('application_type', axis=1)\n",
    "# train.head()"
   ]
  },
  {
   "cell_type": "code",
   "execution_count": 55,
   "metadata": {},
   "outputs": [],
   "source": [
    "# # test = test.drop('grade', axis=1)\n",
    "# test = test.drop('purpose', axis=1)\n",
    "# # test = test.drop('application_type', axis=1)\n",
    "# test.head()"
   ]
  },
  {
   "cell_type": "markdown",
   "metadata": {},
   "source": [
    "モデルを用いた分析"
   ]
  },
  {
   "cell_type": "code",
   "execution_count": 56,
   "metadata": {},
   "outputs": [],
   "source": [
    "from tqdm import tqdm\n",
    "from sklearn.model_selection import GridSearchCV\n",
    "from sklearn.model_selection import train_test_split\n",
    "from sklearn.linear_model import LogisticRegression\n",
    "from sklearn.tree import DecisionTreeClassifier\n",
    "from sklearn.ensemble import RandomForestClassifier\n",
    "from sklearn.svm import SVC\n",
    "from sklearn.neural_network import MLPClassifier\n",
    "from sklearn.metrics import accuracy_score, classification_report, f1_score\n",
    "import lightgbm as lgb"
   ]
  },
  {
   "cell_type": "code",
   "execution_count": 57,
   "metadata": {},
   "outputs": [
    {
     "name": "stdout",
     "output_type": "stream",
     "text": [
      "242150\n"
     ]
    }
   ],
   "source": [
    "# データ量がそこそこ多いのでhold-out法よりもk-foldの方が精度が良いと予想\n",
    "print(len(train))"
   ]
  },
  {
   "cell_type": "code",
   "execution_count": 58,
   "metadata": {},
   "outputs": [],
   "source": [
    "# hold-out法でバリデーション\n",
    "X = train.drop('loan_status', axis=1)\n",
    "y = train['loan_status']\n",
    "X_train, X_valid, y_train, y_valid = train_test_split(X, y, test_size=0.2, random_state=42)"
   ]
  },
  {
   "cell_type": "markdown",
   "metadata": {},
   "source": [
    "chatgptによると、F1スコアは分類モデルの性能を評価する際に、特にクラスの不均衡がある場合に有用な指標です。モデルの適合率（Precision）と再現率（Recall）のバランスを示す指標であり、モデルの性能をより包括的に評価できます。"
   ]
  },
  {
   "cell_type": "code",
   "execution_count": 59,
   "metadata": {},
   "outputs": [],
   "source": [
    "# models = [LogisticRegression(), DecisionTreeClassifier(), RandomForestClassifier(), SVC(), MLPClassifier()]\n",
    "\n",
    "# for model in models:\n",
    "#     model.fit(X_train, y_train)\n",
    "#     y_pred = model.predict(X_valid)\n",
    "#     f1 = f1_score(y_valid, y_pred)\n",
    "#     print(f\"F1 Score: {f1}\")\n",
    "#     # report = classification_report(y_test, y_pred, target_names=train.target_names)\n",
    "#     # print(f\"{model.__class__.__name__} Accuracy: {report}\")"
   ]
  },
  {
   "cell_type": "code",
   "execution_count": 60,
   "metadata": {},
   "outputs": [],
   "source": [
    "# # ロジスティック回帰\n",
    "# model = LogisticRegression()\n",
    "# model.fit(X_train, y_train)\n",
    "# y_pred = model.predict(X_valid)\n",
    "# f1 = f1_score(y_valid, y_pred)\n",
    "# print(f\"{model} F1_score: {f1}\")"
   ]
  },
  {
   "cell_type": "code",
   "execution_count": 61,
   "metadata": {},
   "outputs": [],
   "source": [
    "# model = DecisionTreeClassifier(criterion='entropy', max_depth=7, min_samples_split=21, min_samples_leaf=13)\n",
    "# model.fit(X_train, y_train)\n",
    "# y_pred = model.predict_proba(X_valid)\n",
    "# y_pred = pd.DataFrame(y_pred)\n",
    "# y_pred = y_pred[1]\n",
    "# print(y_pred)\n",
    "# y_pred = np.where(y_pred > 0.18, 1, 0)\n",
    "# f1 = f1_score(y_valid, y_pred)\n",
    "# print(f1)"
   ]
  },
  {
   "cell_type": "code",
   "execution_count": 62,
   "metadata": {},
   "outputs": [],
   "source": [
    "# # ランダムフォレスト（閾値を動かしてみる）\n",
    "# f1_lst = []\n",
    "# num = np.arange(0.15, 0.20, 0.001)\n",
    "# model = RandomForestClassifier()\n",
    "# model.fit(X_train, y_train)\n",
    "# for i in num:\n",
    "#     y_pred = model.predict_proba(X_valid)\n",
    "#     y_pred = pd.DataFrame(y_pred)\n",
    "#     y_pred = y_pred[1]\n",
    "#     y_pred = np.where(y_pred > i, 1, 0)\n",
    "#     f1 = f1_score(y_valid, y_pred)\n",
    "#     f1_lst.append(f1)"
   ]
  },
  {
   "cell_type": "code",
   "execution_count": 63,
   "metadata": {},
   "outputs": [],
   "source": [
    "# # 学習\n",
    "# model = RandomForestClassifier()\n",
    "# model.fit(X_train, y_train)"
   ]
  },
  {
   "cell_type": "code",
   "execution_count": 64,
   "metadata": {},
   "outputs": [],
   "source": [
    "# y_pred = model.predict_proba(X_valid)\n",
    "# y_pred = pd.DataFrame(y_pred)\n",
    "# y_pred = y_pred[1]\n",
    "# y_pred = np.where(y_pred > 0.18, 1, 0)\n",
    "# f1 = f1_score(y_valid, y_pred)\n",
    "# print(f1)"
   ]
  },
  {
   "cell_type": "code",
   "execution_count": 65,
   "metadata": {},
   "outputs": [],
   "source": [
    "# # numの番目が閾値として最適っぽい\n",
    "# print(f1_lst.index(max(f1_lst)))\n",
    "# print(num[30])"
   ]
  },
  {
   "cell_type": "code",
   "execution_count": 66,
   "metadata": {},
   "outputs": [],
   "source": [
    "# print(max(f1_lst))"
   ]
  },
  {
   "cell_type": "code",
   "execution_count": 67,
   "metadata": {},
   "outputs": [],
   "source": [
    "# plt.figure(figsize=(10, 6))\n",
    "# plt.plot(num, f1_lst, label='精度の推移', marker='o')"
   ]
  },
  {
   "cell_type": "code",
   "execution_count": 68,
   "metadata": {},
   "outputs": [],
   "source": [
    "# # 今度はtrainデータ全体で学習させてみる\n",
    "# idx = f1_lst.index(max(f1_lst))\n",
    "# threshold = num[idx]\n",
    "# model.fit(X, y)\n",
    "# test_preds = model.predict_proba(test)\n",
    "# test_preds = pd.DataFrame(test_preds)\n",
    "# test_preds = test_preds[1]\n",
    "# test_preds = np.where(test_preds > threshold, 1, 0)\n",
    "# test_preds"
   ]
  },
  {
   "cell_type": "code",
   "execution_count": 69,
   "metadata": {},
   "outputs": [],
   "source": [
    "# # 1になる確率を算出できた\n",
    "# test_preds = pd.DataFrame(test_preds)\n",
    "# test_preds = test_preds[1]\n",
    "# test_preds"
   ]
  },
  {
   "cell_type": "code",
   "execution_count": 70,
   "metadata": {},
   "outputs": [],
   "source": [
    "# # 決定木\n",
    "# f1_lst = []\n",
    "# for i in range(30):\n",
    "#     model = DecisionTreeClassifier()\n",
    "#     model.fit(X_train, y_train)\n",
    "#     y_pred = model.predict(X_valid)\n",
    "#     f1 = f1_score(y_valid, y_pred)\n",
    "#     f1_lst.append(f1)\n",
    "# print(f\"{model} F1_score: {np.average(f1_lst)}\")"
   ]
  },
  {
   "cell_type": "code",
   "execution_count": 71,
   "metadata": {},
   "outputs": [],
   "source": [
    "# # 決定木（optunaでチューニング）\n",
    "# !pip install optuna\n",
    "# import optuna\n",
    "\n",
    "# def objective(trial):\n",
    "#     # ハイパーパラメータの探索範囲を指定\n",
    "#     max_depth = trial.suggest_int('max_depth', 2, 100)\n",
    "#     min_samples_split = trial.suggest_int('min_samples_split', 2, 50)\n",
    "#     min_samples_leaf = trial.suggest_int('min_samples_leaf', 1, 50)\n",
    "#     criterion = trial.suggest_categorical(\"criterion\", [\"gini\", \"entropy\"])\n",
    "    \n",
    "#     # 決定木を構築\n",
    "#     model = DecisionTreeClassifier(\n",
    "#         max_depth=max_depth,\n",
    "#         min_samples_split=min_samples_split,\n",
    "#         min_samples_leaf=min_samples_leaf,\n",
    "#         criterion = criterion,\n",
    "#         random_state=42\n",
    "#     )\n",
    "    \n",
    "#     # モデルを訓練\n",
    "#     model.fit(X_train, y_train)\n",
    "    \n",
    "#     # テストデータでF1スコアを計算\n",
    "#     y_pred = model.predict_proba(X_valid)\n",
    "#     y_pred = pd.DataFrame(y_pred)\n",
    "#     y_pred = y_pred[1]\n",
    "#     y_pred = np.where(y_pred > 0.18, 1, 0)\n",
    "#     f1 = f1_score(y_valid, y_pred)\n",
    "\n",
    "#     return f1\n",
    "\n",
    "# study = optuna.create_study(direction='maximize')  # 最大化問題として設定\n",
    "# study.optimize(objective, n_trials=200)  # 200回試行\n",
    "\n",
    "# # 最適なハイパーパラメータを表示\n",
    "# best_params = study.best_params\n",
    "# print(\"Best Parameters:\", best_params)\n",
    "\n",
    "# # 最適な評価指標値（F1スコア）を表示\n",
    "# best_f1 = study.best_value\n",
    "# print(\"Best F1 Score:\", best_f1)\n",
    "\n",
    "# best_max_depth = best_params['max_depth']\n",
    "# best_min_samples_split = best_params['min_samples_split']\n",
    "# best_min_samples_leaf = best_params['min_samples_leaf']\n",
    "# best_criterion = best_params['criterion']\n",
    "\n",
    "# best_model = DecisionTreeClassifier(\n",
    "#     max_depth=best_max_depth,\n",
    "#     min_samples_split=best_min_samples_split,\n",
    "#     min_samples_leaf=best_min_samples_leaf,\n",
    "#     criterion=best_criterion,\n",
    "#     random_state=42\n",
    "# )\n",
    "\n",
    "# best_model.fit(X_train, y_train)\n",
    "# y_pred = best_model.predict_proba(X_valid)\n",
    "# y_pred = pd.DataFrame(y_pred)\n",
    "# y_pred = y_pred[1]\n",
    "# print(y_pred)\n",
    "# y_pred = np.where(y_pred > 0.18, 1, 0)\n",
    "\n",
    "# # 最適なモデルのF1スコアを表示\n",
    "# best_f1_score = f1_score(y_valid, y_pred)\n",
    "# print(\"Best Model F1 Score:\", best_f1_score)\n",
    "\n"
   ]
  },
  {
   "cell_type": "code",
   "execution_count": 72,
   "metadata": {},
   "outputs": [],
   "source": [
    "# # ランダムフォレスト（optunaでチューニング）\n",
    "# !pip install optuna\n",
    "# import optuna\n",
    "\n",
    "# def objective(trial):\n",
    "#     # ハイパーパラメータの探索範囲を指定\n",
    "#     max_depth = trial.suggest_int('max_depth', 2, 100)\n",
    "#     min_samples_split = trial.suggest_int('min_samples_split', 2, 50)\n",
    "#     min_samples_leaf = trial.suggest_int('min_samples_leaf', 1, 50)\n",
    "#     criterion = trial.suggest_categorical(\"criterion\", [\"gini\", \"entropy\"])\n",
    "    \n",
    "#     # ランダムフォレストモデルを構築\n",
    "#     model = RandomForestClassifier(\n",
    "#         max_depth=max_depth,\n",
    "#         min_samples_split=min_samples_split,\n",
    "#         min_samples_leaf=min_samples_leaf,\n",
    "#         criterion = criterion,\n",
    "#         random_state=42\n",
    "#     )\n",
    "    \n",
    "#     # モデルを訓練\n",
    "#     model.fit(X_train, y_train)\n",
    "    \n",
    "#     # テストデータでF1スコアを計算\n",
    "#     y_pred = model.predict_proba(X_valid)\n",
    "#     y_pred = pd.DataFrame(y_pred)\n",
    "#     y_pred = y_pred[1]\n",
    "#     y_pred = np.where(y_pred > 0.18, 1, 0)\n",
    "#     f1 = f1_score(y_valid, y_pred)\n",
    "\n",
    "#     return f1\n",
    "\n",
    "# study = optuna.create_study(direction='maximize')  # 最大化問題として設定\n",
    "# study.optimize(objective, n_trials=200)  # 200回試行\n",
    "\n",
    "# # 最適なハイパーパラメータを表示\n",
    "# best_params = study.best_params\n",
    "# print(\"Best Parameters:\", best_params)\n",
    "\n",
    "# # 最適な評価指標値（F1スコア）を表示\n",
    "# best_f1 = study.best_value\n",
    "# print(\"Best F1 Score:\", best_f1)\n",
    "\n",
    "# best_max_depth = best_params['max_depth']\n",
    "# best_min_samples_split = best_params['min_samples_split']\n",
    "# best_min_samples_leaf = best_params['min_samples_leaf']\n",
    "# best_criterion = best_params['criterion']\n",
    "\n",
    "# best_model = RandomForestClassifier(\n",
    "#     max_depth=best_max_depth,\n",
    "#     min_samples_split=best_min_samples_split,\n",
    "#     min_samples_leaf=best_min_samples_leaf,\n",
    "#     criterion=best_criterion,\n",
    "#     random_state=42\n",
    "# )\n",
    "\n",
    "# best_model.fit(X_train, y_train)\n",
    "# y_pred = best_model.predict_proba(X_valid)\n",
    "# y_pred = pd.DataFrame(y_pred)\n",
    "# y_pred = y_pred[1]\n",
    "# print(y_pred)\n",
    "# y_pred = np.where(y_pred > 0.18, 1, 0)\n",
    "\n",
    "# # 最適なモデルのF1スコアを表示\n",
    "# best_f1_score = f1_score(y_valid, y_pred)\n",
    "# print(\"Best Model F1 Score:\", best_f1_score)\n",
    "\n"
   ]
  },
  {
   "cell_type": "code",
   "execution_count": 73,
   "metadata": {},
   "outputs": [],
   "source": [
    "# # 今度はtrainデータ全体で学習させてみる\n",
    "# best_model.fit(X, y)\n",
    "# test_preds = best_model.predict_proba(test)\n",
    "# test_preds = pd.DataFrame(test_preds)\n",
    "# test_preds = test_preds[1]\n",
    "# test_preds = np.where(test_preds > 0.18, 1, 0)\n",
    "# test_preds"
   ]
  },
  {
   "cell_type": "code",
   "execution_count": 74,
   "metadata": {},
   "outputs": [],
   "source": [
    "# # 学習モデルの保存\n",
    "# import pickle\n",
    "\n",
    "# with open('best_model_randomforest.pickle', mode='wb') as f:\n",
    "#     pickle.dump(best_model, f)"
   ]
  },
  {
   "cell_type": "code",
   "execution_count": 75,
   "metadata": {},
   "outputs": [],
   "source": [
    "# # 今度はtrainデータ全体で学習させてみる\n",
    "# best_model.fit(X, y)\n",
    "# test_preds = best_model.predict(test)\n",
    "# test_preds = test_preds.astype(int)\n",
    "# test_preds"
   ]
  },
  {
   "cell_type": "code",
   "execution_count": 76,
   "metadata": {},
   "outputs": [],
   "source": [
    "# # 決定木\n",
    "# f1_lst = []\n",
    "# for i in range(30):\n",
    "#     model = DecisionTreeClassifier()\n",
    "#     model.fit(X_train, y_train)\n",
    "#     y_pred = model.predict(X_valid)\n",
    "#     f1 = f1_score(y_valid, y_pred)\n",
    "#     f1_lst.append(f1)\n",
    "# print(f\"{model} F1_score: {np.average(f1_lst)}\")"
   ]
  },
  {
   "cell_type": "code",
   "execution_count": 77,
   "metadata": {},
   "outputs": [],
   "source": [
    "# # 今度はtrainデータ全体で学習させてみる\n",
    "# model.fit(X, y)\n",
    "# test_preds = model.predict(test)\n",
    "# test_preds"
   ]
  },
  {
   "cell_type": "code",
   "execution_count": 78,
   "metadata": {},
   "outputs": [],
   "source": [
    "# print(model.get_params())"
   ]
  },
  {
   "cell_type": "code",
   "execution_count": 79,
   "metadata": {},
   "outputs": [],
   "source": [
    "# # 決定木（k分割交差検証）\n",
    "# from sklearn.model_selection import cross_val_score\n",
    "# from sklearn.model_selection import KFold\n",
    "\n",
    "# SEED = 42 # シード値\n",
    "# FOLDS = 10 # 分割数K\n",
    "# valid_scores = []\n",
    "# y_test_preds = pd.DataFrame()\n",
    "\n",
    "# kf = KFold(n_splits=FOLDS, shuffle=True, random_state=SEED)\n",
    "# for fold, (train_indices, valid_indices) in tqdm(enumerate(kf.split(X, y)), total=FOLDS):\n",
    "#     X_train, X_valid = X.iloc[train_indices], X.iloc[valid_indices]\n",
    "#     y_train, y_valid = y.iloc[train_indices], y.iloc[valid_indices]\n",
    "\n",
    "#     model = DecisionTreeClassifier()\n",
    "#     model.fit(X_train, y_train)\n",
    "#     y_pred = model.predict(X_valid)\n",
    "#     f1 = f1_score(y_valid, y_pred)\n",
    "#     test_preds = model.predict(test)\n",
    "#     test_preds = test_preds.astype(int)\n",
    "#     y_test_preds[f'{fold+1}'] = test_preds\n",
    "#     valid_scores.append(f1)\n",
    "#     print(f\"{model} F1_score: {f1}\")\n",
    "\n",
    "# # 交差検証のスコア（CVスコア）\n",
    "# cv_score = np.mean(valid_scores)\n",
    "# print(f'CV: {np.mean(cv_score)}')"
   ]
  },
  {
   "cell_type": "code",
   "execution_count": 80,
   "metadata": {},
   "outputs": [],
   "source": [
    "# y_test_preds"
   ]
  },
  {
   "cell_type": "code",
   "execution_count": 81,
   "metadata": {},
   "outputs": [],
   "source": [
    "# test_preds = list(y_test_preds.mean(axis=1).astype(int))\n",
    "# test_preds"
   ]
  },
  {
   "cell_type": "code",
   "execution_count": 82,
   "metadata": {},
   "outputs": [],
   "source": [
    "# # 決定木（グリッドサーチでチューニング）->時間がかかりすぎたため精度は不明\n",
    "# max_score = 0\n",
    "# SearchMethod = 0\n",
    "# DTC_grid = {DecisionTreeClassifier(): {\"criterion\": [\"entropy\"],\n",
    "#                                         \"splitter\": [\"best\"],\n",
    "#                                         \"max_depth\": [2, 5, 10, 15, None],\n",
    "#                                         \"min_samples_split\": [2, 5, 10, None],\n",
    "#                                         \"min_samples_leaf\": [1, 5, 10, None],\n",
    "#                                         # \"random_state\": [i for i in range(0, 101)]\n",
    "#                                         }}\n",
    "# for model, param in tqdm(DTC_grid.items()):\n",
    "#     clf = GridSearchCV(model, param)\n",
    "#     clf.fit(X_train, y_train)\n",
    "#     y_pred = clf.predict(X_valid)\n",
    "#     score = f1_score(y_valid, y_pred)\n",
    "\n",
    "#     if max_score < score:\n",
    "#         max_score = score\n",
    "#         best_param = clf.best_params_\n",
    "#         best_model = model.__class__.__name__\n",
    "\n",
    "# print(\"ベストスコア:{}\".format(max_score))\n",
    "# print(\"モデル:{}\".format(best_model))\n",
    "# print(\"パラメーター:{}\".format(best_param))\n"
   ]
  },
  {
   "cell_type": "code",
   "execution_count": 83,
   "metadata": {},
   "outputs": [],
   "source": [
    "# # 決定木（ベイズ最適化でチューニング）->F1_score: 0.20682389172542348\n",
    "# !pip install scikit-optimize\n",
    "# from sklearn.model_selection import cross_val_score\n",
    "\n",
    "# def objective_function(params):\n",
    "#     max_depth = params[0]\n",
    "#     min_samples_split = params[1]\n",
    "#     min_samples_leaf = params[2]\n",
    "\n",
    "#     model = DecisionTreeClassifier(max_depth=max_depth, min_samples_split=min_samples_split, min_samples_leaf=min_samples_leaf)\n",
    "    \n",
    "#     # 交差検証を使用してモデルの性能を評価\n",
    "#     scores = cross_val_score(model, X_train, y_train, cv=5, scoring='f1')\n",
    "    \n",
    "#     # スコアの平均を返す（最小化する目的関数なので、1からスコアを引いた値を返します）\n",
    "#     return 1 - scores.mean()\n",
    "\n",
    "# from skopt.space import Integer\n",
    "\n",
    "# param_space = [Integer(1, 20, name='max_depth'),\n",
    "#                 Integer(2, 20, name='min_samples_split'),\n",
    "#                 Integer(1, 10, name='min_samples_leaf')]\n",
    "\n",
    "# from skopt import gp_minimize\n",
    "\n",
    "# result = gp_minimize(objective_function, param_space, n_calls=30, random_state=0)\n",
    "\n",
    "# best_params = result.x\n",
    "# best_objective_value = result.fun"
   ]
  },
  {
   "cell_type": "code",
   "execution_count": 84,
   "metadata": {},
   "outputs": [],
   "source": [
    "# print(best_params)\n",
    "# print(best_objective_value)"
   ]
  },
  {
   "cell_type": "code",
   "execution_count": 85,
   "metadata": {},
   "outputs": [],
   "source": [
    "# # 決定木（optunaでチューニング）\n",
    "# !pip install optuna\n",
    "# import optuna\n",
    "\n",
    "# def objective(trial):\n",
    "#     # ハイパーパラメータの探索範囲を指定\n",
    "#     max_depth = trial.suggest_int('max_depth', 2, 32)\n",
    "#     min_samples_split = trial.suggest_int('min_samples_split', 2, 20)\n",
    "#     min_samples_leaf = trial.suggest_int('min_samples_leaf', 1, 10)\n",
    "    \n",
    "#     # 決定木モデルを構築\n",
    "#     model = DecisionTreeClassifier(\n",
    "#         max_depth=max_depth,\n",
    "#         min_samples_split=min_samples_split,\n",
    "#         min_samples_leaf=min_samples_leaf,\n",
    "#         random_state=42\n",
    "#     )\n",
    "    \n",
    "#     # モデルを訓練\n",
    "#     model.fit(X_train, y_train)\n",
    "    \n",
    "#     # テストデータでF1スコアを計算\n",
    "#     y_pred = model.predict(X_valid)\n",
    "#     f1 = f1_score(y_valid, y_pred)\n",
    "\n",
    "#     return f1\n",
    "\n",
    "# study = optuna.create_study(direction='maximize')  # 最大化問題として設定\n",
    "# study.optimize(objective, n_trials=100)  # 100回試行\n",
    "\n",
    "# # 最適なハイパーパラメータを表示\n",
    "# best_params = study.best_params\n",
    "# print(\"Best Parameters:\", best_params)\n",
    "\n",
    "# # 最適な評価指標値（F1スコア）を表示\n",
    "# best_f1 = study.best_value\n",
    "# print(\"Best F1 Score:\", best_f1)\n",
    "\n",
    "# best_max_depth = best_params['max_depth']\n",
    "# best_min_samples_split = best_params['min_samples_split']\n",
    "# best_min_samples_leaf = best_params['min_samples_leaf']\n",
    "\n",
    "# best_model = DecisionTreeClassifier(\n",
    "#     max_depth=best_max_depth,\n",
    "#     min_samples_split=best_min_samples_split,\n",
    "#     min_samples_leaf=best_min_samples_leaf,\n",
    "#     random_state=42\n",
    "# )\n",
    "\n",
    "# best_model.fit(X_train, y_train)\n",
    "# y_pred = best_model.predict(X_valid)\n",
    "\n",
    "# # 最適なモデルのF1スコアを表示\n",
    "# best_f1_score = f1_score(y_valid, y_pred)\n",
    "# print(\"Best Model F1 Score:\", best_f1_score)\n",
    "\n"
   ]
  },
  {
   "cell_type": "code",
   "execution_count": 86,
   "metadata": {},
   "outputs": [],
   "source": [
    "# # サポートベクトルマシン->スケーリングが必要なので処理に時間がかかっている\n",
    "# model = SVC()\n",
    "# model.fit(X_train, y_train)\n",
    "# y_pred = model.predict(X_valid)\n",
    "# f1 = f1_score(y_valid, y_pred)\n",
    "# print(f\"{model} F1_score: {f1}\")"
   ]
  },
  {
   "cell_type": "code",
   "execution_count": 87,
   "metadata": {},
   "outputs": [],
   "source": [
    "# # MLP\n",
    "# model = MLPClassifier()\n",
    "# model.fit(X_train, y_train)\n",
    "# y_pred = model.predict(X_valid)\n",
    "# f1 = f1_score(y_valid, y_pred)\n",
    "# print(f\"{model} F1_score: {f1}\")"
   ]
  },
  {
   "cell_type": "code",
   "execution_count": 88,
   "metadata": {},
   "outputs": [],
   "source": [
    "# # データ保存\n",
    "# import pickle\n",
    "# pickle.dump(model, open('lightgbm.pickle', 'wb'))"
   ]
  },
  {
   "cell_type": "code",
   "execution_count": 89,
   "metadata": {},
   "outputs": [],
   "source": [
    "# lightgbm(optunaによるハイパーパラメータチューニング)\n",
    "from optuna.integration import lightgbm as gbm\n",
    "\n",
    "train_data = gbm.Dataset(X_train, label=y_train)\n",
    "valid_data = gbm.Dataset(X_valid, label=y_valid, reference=train_data)\n",
    "\n",
    "# 固定するパラメータ\n",
    "params = {\n",
    "    'objective':'binary',\n",
    "    # 'metric':'binary_error',\n",
    "    'boosting_type':'gbdt',\n",
    "    # 'num_leaves':31,\n",
    "    # 'learning_rate':0.05,　　#\n",
    "    # iterations(木の数)を増やすなら小さな学習率(learning_rate)をとると良いらしい\n",
    "    # 'feature_fraction':0.9\n",
    "}\n",
    "\n",
    "model = gbm.train(params, train_data, valid_sets=[valid_data])\n",
    "\n",
    "best_params = model.params\n",
    "print(\"Best params:\", best_params)\n",
    "\n",
    "y_pred = model.predict(X_valid, num_iteration=model.best_iteration)\n",
    "y_pred = np.where(y_pred > 0.20, 1, 0)\n",
    "f1 = f1_score(y_valid, y_pred)\n",
    "print(f\"{model} F1_score: {f1}\")"
   ]
  },
  {
   "cell_type": "code",
   "execution_count": 90,
   "metadata": {},
   "outputs": [],
   "source": [
    "# LightGBMのパラメータの設定\n",
    "SEED = 42 # シード値\n",
    "FOLDS = 10 # 分割数K\n",
    "\n",
    "params = {\n",
    "        'objective':'binary',\n",
    "        'metric':'f1',\n",
    "        'boosting_type':'gbdt',\n",
    "        'learning_rate':0.09,\n",
    "        'feature_pre_filter': False, \n",
    "        'lambda_l1': 9.82026004722772, \n",
    "        'lambda_l2': 1.0661176582519656e-08, \n",
    "        'num_leaves': 10, \n",
    "        'feature_fraction': 0.4, \n",
    "        'bagging_fraction': 0.8735129139493859, \n",
    "        'bagging_freq': 5, \n",
    "        'min_child_samples': 20, \n",
    "        'num_iterations': 1000\n",
    "        \n",
    "    }"
   ]
  },
  {
   "cell_type": "code",
   "execution_count": 91,
   "metadata": {},
   "outputs": [
    {
     "name": "stderr",
     "output_type": "stream",
     "text": [
      "  0%|          | 0/9 [00:00<?, ?it/s]c:\\Users\\HAMAGUCHI TAKUMA\\AppData\\Local\\Programs\\Python\\Python310\\lib\\site-packages\\lightgbm\\engine.py:172: UserWarning: Found `num_iterations` in params. Will use it instead of argument\n",
      "  _log_warning(f\"Found `{alias}` in params. Will use it instead of argument\")\n"
     ]
    },
    {
     "name": "stdout",
     "output_type": "stream",
     "text": [
      "[LightGBM] [Info] Number of positive: 37644, number of negative: 177600\n",
      "[LightGBM] [Warning] Auto-choosing col-wise multi-threading, the overhead of testing was 0.014721 seconds.\n",
      "You can set `force_col_wise=true` to remove the overhead.\n",
      "[LightGBM] [Info] Total Bins 843\n",
      "[LightGBM] [Info] Number of data points in the train set: 215244, number of used features: 19\n",
      "[LightGBM] [Info] [binary:BoostFromScore]: pavg=0.174890 -> initscore=-1.551360\n",
      "[LightGBM] [Info] Start training from score -1.551360\n",
      "[LightGBM] [Warning] No further splits with positive gain, best gain: -inf\n",
      "[LightGBM] [Warning] No further splits with positive gain, best gain: -inf\n",
      "[LightGBM] [Warning] No further splits with positive gain, best gain: -inf\n",
      "[LightGBM] [Warning] No further splits with positive gain, best gain: -inf\n",
      "[LightGBM] [Warning] No further splits with positive gain, best gain: -inf\n",
      "[LightGBM] [Warning] No further splits with positive gain, best gain: -inf\n",
      "[LightGBM] [Warning] No further splits with positive gain, best gain: -inf\n",
      "FOLD: 1 f1_score: 0.40142224802263987\n"
     ]
    },
    {
     "name": "stderr",
     "output_type": "stream",
     "text": [
      " 11%|█         | 1/9 [00:11<01:33, 11.69s/it]c:\\Users\\HAMAGUCHI TAKUMA\\AppData\\Local\\Programs\\Python\\Python310\\lib\\site-packages\\lightgbm\\engine.py:172: UserWarning: Found `num_iterations` in params. Will use it instead of argument\n",
      "  _log_warning(f\"Found `{alias}` in params. Will use it instead of argument\")\n"
     ]
    },
    {
     "name": "stdout",
     "output_type": "stream",
     "text": [
      "[LightGBM] [Info] Number of positive: 37634, number of negative: 177610\n",
      "[LightGBM] [Warning] Auto-choosing row-wise multi-threading, the overhead of testing was 0.006582 seconds.\n",
      "You can set `force_row_wise=true` to remove the overhead.\n",
      "And if memory is not enough, you can set `force_col_wise=true`.\n",
      "[LightGBM] [Info] Total Bins 842\n",
      "[LightGBM] [Info] Number of data points in the train set: 215244, number of used features: 19\n",
      "[LightGBM] [Info] [binary:BoostFromScore]: pavg=0.174843 -> initscore=-1.551682\n",
      "[LightGBM] [Info] Start training from score -1.551682\n",
      "[LightGBM] [Warning] No further splits with positive gain, best gain: -inf\n",
      "[LightGBM] [Warning] No further splits with positive gain, best gain: -inf\n",
      "[LightGBM] [Warning] No further splits with positive gain, best gain: -inf\n",
      "[LightGBM] [Warning] No further splits with positive gain, best gain: -inf\n",
      "[LightGBM] [Warning] No further splits with positive gain, best gain: -inf\n",
      "[LightGBM] [Warning] No further splits with positive gain, best gain: -inf\n",
      "[LightGBM] [Warning] No further splits with positive gain, best gain: -inf\n",
      "[LightGBM] [Warning] No further splits with positive gain, best gain: -inf\n",
      "[LightGBM] [Warning] No further splits with positive gain, best gain: -inf\n",
      "[LightGBM] [Warning] No further splits with positive gain, best gain: -inf\n",
      "[LightGBM] [Warning] No further splits with positive gain, best gain: -inf\n",
      "[LightGBM] [Warning] No further splits with positive gain, best gain: -inf\n",
      "[LightGBM] [Warning] No further splits with positive gain, best gain: -inf\n",
      "FOLD: 2 f1_score: 0.39044348652005556\n"
     ]
    },
    {
     "name": "stderr",
     "output_type": "stream",
     "text": [
      " 22%|██▏       | 2/9 [00:18<01:00,  8.58s/it]c:\\Users\\HAMAGUCHI TAKUMA\\AppData\\Local\\Programs\\Python\\Python310\\lib\\site-packages\\lightgbm\\engine.py:172: UserWarning: Found `num_iterations` in params. Will use it instead of argument\n",
      "  _log_warning(f\"Found `{alias}` in params. Will use it instead of argument\")\n"
     ]
    },
    {
     "name": "stdout",
     "output_type": "stream",
     "text": [
      "[LightGBM] [Info] Number of positive: 37692, number of negative: 177552\n",
      "[LightGBM] [Warning] Auto-choosing col-wise multi-threading, the overhead of testing was 0.008483 seconds.\n",
      "You can set `force_col_wise=true` to remove the overhead.\n",
      "[LightGBM] [Info] Total Bins 843\n",
      "[LightGBM] [Info] Number of data points in the train set: 215244, number of used features: 19\n",
      "[LightGBM] [Info] [binary:BoostFromScore]: pavg=0.175113 -> initscore=-1.549816\n",
      "[LightGBM] [Info] Start training from score -1.549816\n",
      "[LightGBM] [Warning] No further splits with positive gain, best gain: -inf\n",
      "[LightGBM] [Warning] No further splits with positive gain, best gain: -inf\n",
      "[LightGBM] [Warning] No further splits with positive gain, best gain: -inf\n",
      "[LightGBM] [Warning] No further splits with positive gain, best gain: -inf\n",
      "[LightGBM] [Warning] No further splits with positive gain, best gain: -inf\n",
      "[LightGBM] [Warning] No further splits with positive gain, best gain: -inf\n",
      "[LightGBM] [Warning] No further splits with positive gain, best gain: -inf\n",
      "[LightGBM] [Warning] No further splits with positive gain, best gain: -inf\n",
      "[LightGBM] [Warning] No further splits with positive gain, best gain: -inf\n",
      "[LightGBM] [Warning] No further splits with positive gain, best gain: -inf\n",
      "[LightGBM] [Warning] No further splits with positive gain, best gain: -inf\n",
      "[LightGBM] [Warning] No further splits with positive gain, best gain: -inf\n",
      "[LightGBM] [Warning] No further splits with positive gain, best gain: -inf\n",
      "FOLD: 3 f1_score: 0.3966042664344797\n"
     ]
    },
    {
     "name": "stderr",
     "output_type": "stream",
     "text": [
      " 33%|███▎      | 3/9 [00:25<00:47,  7.87s/it]c:\\Users\\HAMAGUCHI TAKUMA\\AppData\\Local\\Programs\\Python\\Python310\\lib\\site-packages\\lightgbm\\engine.py:172: UserWarning: Found `num_iterations` in params. Will use it instead of argument\n",
      "  _log_warning(f\"Found `{alias}` in params. Will use it instead of argument\")\n"
     ]
    },
    {
     "name": "stdout",
     "output_type": "stream",
     "text": [
      "[LightGBM] [Info] Number of positive: 37752, number of negative: 177492\n",
      "[LightGBM] [Warning] Auto-choosing row-wise multi-threading, the overhead of testing was 0.004934 seconds.\n",
      "You can set `force_row_wise=true` to remove the overhead.\n",
      "And if memory is not enough, you can set `force_col_wise=true`.\n",
      "[LightGBM] [Info] Total Bins 843\n",
      "[LightGBM] [Info] Number of data points in the train set: 215244, number of used features: 19\n",
      "[LightGBM] [Info] [binary:BoostFromScore]: pavg=0.175392 -> initscore=-1.547887\n",
      "[LightGBM] [Info] Start training from score -1.547887\n",
      "[LightGBM] [Warning] No further splits with positive gain, best gain: -inf\n",
      "[LightGBM] [Warning] No further splits with positive gain, best gain: -inf\n",
      "[LightGBM] [Warning] No further splits with positive gain, best gain: -inf\n",
      "[LightGBM] [Warning] No further splits with positive gain, best gain: -inf\n",
      "[LightGBM] [Warning] No further splits with positive gain, best gain: -inf\n",
      "[LightGBM] [Warning] No further splits with positive gain, best gain: -inf\n",
      "[LightGBM] [Warning] No further splits with positive gain, best gain: -inf\n",
      "[LightGBM] [Warning] No further splits with positive gain, best gain: -inf\n",
      "FOLD: 4 f1_score: 0.3928967813540511\n"
     ]
    },
    {
     "name": "stderr",
     "output_type": "stream",
     "text": [
      " 44%|████▍     | 4/9 [00:33<00:39,  7.97s/it]c:\\Users\\HAMAGUCHI TAKUMA\\AppData\\Local\\Programs\\Python\\Python310\\lib\\site-packages\\lightgbm\\engine.py:172: UserWarning: Found `num_iterations` in params. Will use it instead of argument\n",
      "  _log_warning(f\"Found `{alias}` in params. Will use it instead of argument\")\n"
     ]
    },
    {
     "name": "stdout",
     "output_type": "stream",
     "text": [
      "[LightGBM] [Info] Number of positive: 37691, number of negative: 177553\n",
      "[LightGBM] [Warning] Auto-choosing row-wise multi-threading, the overhead of testing was 0.004407 seconds.\n",
      "You can set `force_row_wise=true` to remove the overhead.\n",
      "And if memory is not enough, you can set `force_col_wise=true`.\n",
      "[LightGBM] [Info] Total Bins 842\n",
      "[LightGBM] [Info] Number of data points in the train set: 215244, number of used features: 19\n",
      "[LightGBM] [Info] [binary:BoostFromScore]: pavg=0.175108 -> initscore=-1.549848\n",
      "[LightGBM] [Info] Start training from score -1.549848\n",
      "[LightGBM] [Warning] No further splits with positive gain, best gain: -inf\n",
      "[LightGBM] [Warning] No further splits with positive gain, best gain: -inf\n",
      "[LightGBM] [Warning] No further splits with positive gain, best gain: -inf\n",
      "[LightGBM] [Warning] No further splits with positive gain, best gain: -inf\n",
      "[LightGBM] [Warning] No further splits with positive gain, best gain: -inf\n",
      "[LightGBM] [Warning] No further splits with positive gain, best gain: -inf\n",
      "[LightGBM] [Warning] No further splits with positive gain, best gain: -inf\n",
      "[LightGBM] [Warning] No further splits with positive gain, best gain: -inf\n",
      "[LightGBM] [Warning] No further splits with positive gain, best gain: -inf\n",
      "[LightGBM] [Warning] No further splits with positive gain, best gain: -inf\n",
      "[LightGBM] [Warning] No further splits with positive gain, best gain: -inf\n",
      "FOLD: 5 f1_score: 0.39055918663761807\n"
     ]
    },
    {
     "name": "stderr",
     "output_type": "stream",
     "text": [
      " 56%|█████▌    | 5/9 [00:40<00:30,  7.70s/it]c:\\Users\\HAMAGUCHI TAKUMA\\AppData\\Local\\Programs\\Python\\Python310\\lib\\site-packages\\lightgbm\\engine.py:172: UserWarning: Found `num_iterations` in params. Will use it instead of argument\n",
      "  _log_warning(f\"Found `{alias}` in params. Will use it instead of argument\")\n"
     ]
    },
    {
     "name": "stdout",
     "output_type": "stream",
     "text": [
      "[LightGBM] [Info] Number of positive: 37598, number of negative: 177647\n",
      "[LightGBM] [Warning] Auto-choosing row-wise multi-threading, the overhead of testing was 0.004836 seconds.\n",
      "You can set `force_row_wise=true` to remove the overhead.\n",
      "And if memory is not enough, you can set `force_col_wise=true`.\n",
      "[LightGBM] [Info] Total Bins 842\n",
      "[LightGBM] [Info] Number of data points in the train set: 215245, number of used features: 19\n",
      "[LightGBM] [Info] [binary:BoostFromScore]: pavg=0.174675 -> initscore=-1.552848\n",
      "[LightGBM] [Info] Start training from score -1.552848\n",
      "[LightGBM] [Warning] No further splits with positive gain, best gain: -inf\n",
      "[LightGBM] [Warning] No further splits with positive gain, best gain: -inf\n",
      "[LightGBM] [Warning] No further splits with positive gain, best gain: -inf\n",
      "[LightGBM] [Warning] No further splits with positive gain, best gain: -inf\n",
      "[LightGBM] [Warning] No further splits with positive gain, best gain: -inf\n",
      "[LightGBM] [Warning] No further splits with positive gain, best gain: -inf\n",
      "[LightGBM] [Warning] No further splits with positive gain, best gain: -inf\n",
      "[LightGBM] [Warning] No further splits with positive gain, best gain: -inf\n",
      "[LightGBM] [Warning] No further splits with positive gain, best gain: -inf\n",
      "[LightGBM] [Warning] No further splits with positive gain, best gain: -inf\n",
      "[LightGBM] [Warning] No further splits with positive gain, best gain: -inf\n",
      "[LightGBM] [Warning] No further splits with positive gain, best gain: -inf\n"
     ]
    },
    {
     "name": "stderr",
     "output_type": "stream",
     "text": [
      " 67%|██████▋   | 6/9 [00:45<00:20,  6.93s/it]"
     ]
    },
    {
     "name": "stdout",
     "output_type": "stream",
     "text": [
      "FOLD: 6 f1_score: 0.40189297415362213\n"
     ]
    },
    {
     "name": "stderr",
     "output_type": "stream",
     "text": [
      "c:\\Users\\HAMAGUCHI TAKUMA\\AppData\\Local\\Programs\\Python\\Python310\\lib\\site-packages\\lightgbm\\engine.py:172: UserWarning: Found `num_iterations` in params. Will use it instead of argument\n",
      "  _log_warning(f\"Found `{alias}` in params. Will use it instead of argument\")\n"
     ]
    },
    {
     "name": "stdout",
     "output_type": "stream",
     "text": [
      "[LightGBM] [Info] Number of positive: 37628, number of negative: 177617\n",
      "[LightGBM] [Warning] Auto-choosing row-wise multi-threading, the overhead of testing was 0.004039 seconds.\n",
      "You can set `force_row_wise=true` to remove the overhead.\n",
      "And if memory is not enough, you can set `force_col_wise=true`.\n",
      "[LightGBM] [Info] Total Bins 843\n",
      "[LightGBM] [Info] Number of data points in the train set: 215245, number of used features: 19\n",
      "[LightGBM] [Info] [binary:BoostFromScore]: pavg=0.174815 -> initscore=-1.551881\n",
      "[LightGBM] [Info] Start training from score -1.551881\n",
      "[LightGBM] [Warning] No further splits with positive gain, best gain: -inf\n",
      "[LightGBM] [Warning] No further splits with positive gain, best gain: -inf\n",
      "[LightGBM] [Warning] No further splits with positive gain, best gain: -inf\n",
      "[LightGBM] [Warning] No further splits with positive gain, best gain: -inf\n",
      "[LightGBM] [Warning] No further splits with positive gain, best gain: -inf\n",
      "[LightGBM] [Warning] No further splits with positive gain, best gain: -inf\n",
      "[LightGBM] [Warning] No further splits with positive gain, best gain: -inf\n",
      "[LightGBM] [Warning] No further splits with positive gain, best gain: -inf\n",
      "[LightGBM] [Warning] No further splits with positive gain, best gain: -inf\n",
      "[LightGBM] [Warning] No further splits with positive gain, best gain: -inf\n",
      "[LightGBM] [Warning] No further splits with positive gain, best gain: -inf\n",
      "[LightGBM] [Warning] No further splits with positive gain, best gain: -inf\n",
      "[LightGBM] [Warning] No further splits with positive gain, best gain: -inf\n",
      "[LightGBM] [Warning] No further splits with positive gain, best gain: -inf\n",
      "FOLD: 7 f1_score: 0.40320369435024167\n"
     ]
    },
    {
     "name": "stderr",
     "output_type": "stream",
     "text": [
      " 78%|███████▊  | 7/9 [00:51<00:13,  6.60s/it]c:\\Users\\HAMAGUCHI TAKUMA\\AppData\\Local\\Programs\\Python\\Python310\\lib\\site-packages\\lightgbm\\engine.py:172: UserWarning: Found `num_iterations` in params. Will use it instead of argument\n",
      "  _log_warning(f\"Found `{alias}` in params. Will use it instead of argument\")\n"
     ]
    },
    {
     "name": "stdout",
     "output_type": "stream",
     "text": [
      "[LightGBM] [Info] Number of positive: 37496, number of negative: 177749\n",
      "[LightGBM] [Warning] Auto-choosing row-wise multi-threading, the overhead of testing was 0.004533 seconds.\n",
      "You can set `force_row_wise=true` to remove the overhead.\n",
      "And if memory is not enough, you can set `force_col_wise=true`.\n",
      "[LightGBM] [Info] Total Bins 842\n",
      "[LightGBM] [Info] Number of data points in the train set: 215245, number of used features: 19\n",
      "[LightGBM] [Info] [binary:BoostFromScore]: pavg=0.174201 -> initscore=-1.556138\n",
      "[LightGBM] [Info] Start training from score -1.556138\n",
      "[LightGBM] [Warning] No further splits with positive gain, best gain: -inf\n",
      "[LightGBM] [Warning] No further splits with positive gain, best gain: -inf\n",
      "[LightGBM] [Warning] No further splits with positive gain, best gain: -inf\n",
      "[LightGBM] [Warning] No further splits with positive gain, best gain: -inf\n",
      "[LightGBM] [Warning] No further splits with positive gain, best gain: -inf\n",
      "[LightGBM] [Warning] No further splits with positive gain, best gain: -inf\n",
      "[LightGBM] [Warning] No further splits with positive gain, best gain: -inf\n",
      "[LightGBM] [Warning] No further splits with positive gain, best gain: -inf\n",
      "[LightGBM] [Warning] No further splits with positive gain, best gain: -inf\n",
      "[LightGBM] [Warning] No further splits with positive gain, best gain: -inf\n",
      "FOLD: 8 f1_score: 0.40513862679634205\n"
     ]
    },
    {
     "name": "stderr",
     "output_type": "stream",
     "text": [
      " 89%|████████▉ | 8/9 [00:57<00:06,  6.28s/it]c:\\Users\\HAMAGUCHI TAKUMA\\AppData\\Local\\Programs\\Python\\Python310\\lib\\site-packages\\lightgbm\\engine.py:172: UserWarning: Found `num_iterations` in params. Will use it instead of argument\n",
      "  _log_warning(f\"Found `{alias}` in params. Will use it instead of argument\")\n"
     ]
    },
    {
     "name": "stdout",
     "output_type": "stream",
     "text": [
      "[LightGBM] [Info] Number of positive: 37713, number of negative: 177532\n",
      "[LightGBM] [Warning] Auto-choosing row-wise multi-threading, the overhead of testing was 0.004715 seconds.\n",
      "You can set `force_row_wise=true` to remove the overhead.\n",
      "And if memory is not enough, you can set `force_col_wise=true`.\n",
      "[LightGBM] [Info] Total Bins 843\n",
      "[LightGBM] [Info] Number of data points in the train set: 215245, number of used features: 19\n",
      "[LightGBM] [Info] [binary:BoostFromScore]: pavg=0.175210 -> initscore=-1.549146\n",
      "[LightGBM] [Info] Start training from score -1.549146\n",
      "[LightGBM] [Warning] No further splits with positive gain, best gain: -inf\n",
      "[LightGBM] [Warning] No further splits with positive gain, best gain: -inf\n",
      "[LightGBM] [Warning] No further splits with positive gain, best gain: -inf\n",
      "[LightGBM] [Warning] No further splits with positive gain, best gain: -inf\n",
      "[LightGBM] [Warning] No further splits with positive gain, best gain: -inf\n",
      "[LightGBM] [Warning] No further splits with positive gain, best gain: -inf\n",
      "[LightGBM] [Warning] No further splits with positive gain, best gain: -inf\n",
      "[LightGBM] [Warning] No further splits with positive gain, best gain: -inf\n",
      "FOLD: 9 f1_score: 0.3934851542231191\n"
     ]
    },
    {
     "name": "stderr",
     "output_type": "stream",
     "text": [
      "100%|██████████| 9/9 [01:07<00:00,  7.55s/it]"
     ]
    },
    {
     "name": "stdout",
     "output_type": "stream",
     "text": [
      "CV: 0.3972940464991299\n"
     ]
    },
    {
     "name": "stderr",
     "output_type": "stream",
     "text": [
      "\n"
     ]
    }
   ],
   "source": [
    "# lightgbm(k分割交差検証)\n",
    "from sklearn.model_selection import KFold\n",
    "\n",
    "# 予測値を格納する変数\n",
    "y_test_preds = pd.DataFrame()\n",
    "\n",
    "# 結果などを格納する変数\n",
    "valid_scores, results, models = [], [], []\n",
    "\n",
    "# 交差検証法で学習\n",
    "kf = KFold(n_splits=FOLDS, shuffle=True, random_state=SEED)\n",
    "for fold, (train_indices, valid_indices) in tqdm(enumerate(kf.split(X, y)), total=FOLDS):\n",
    "    X_train, X_valid = X.iloc[train_indices], X.iloc[valid_indices]\n",
    "    y_train, y_valid = y.iloc[train_indices], y.iloc[valid_indices]\n",
    "\n",
    "    lgb_train = lgb.Dataset(X_train, y_train)\n",
    "    lgb_valid = lgb.Dataset(X_valid, y_valid, reference=lgb_train)\n",
    "\n",
    "    # 学習\n",
    "    result = {}\n",
    "    model = lgb.train(\n",
    "        params = params,\n",
    "        train_set = lgb_train, # 学習データ\n",
    "        valid_sets = [lgb_train, lgb_valid], # 検証データ\n",
    "        valid_names = ['Train', 'Valid'], # 学習経過で表示する名称\n",
    "        callbacks=[\n",
    "            lgb.callback.record_evaluation(result), # ログの記録\n",
    "        ]\n",
    "    )\n",
    "\n",
    "    # 検証データのスコア\n",
    "    y_valid_pred = model.predict(X_valid)\n",
    "    y_valid_pred = np.where(y_valid_pred > 0.20, 1, 0)\n",
    "    score = f1_score(y_valid, y_valid_pred)\n",
    "    valid_scores.append(score)\n",
    "    print(f'FOLD: {fold+1} f1_score: {score}')\n",
    "\n",
    "    # テストデータの推論\n",
    "    y_test_preds[f'{fold+1}'] = model.predict(test)\n",
    "    \n",
    "\n",
    "    # 結果を保存\n",
    "    results.append(result)\n",
    "    models.append(model)\n",
    "\n",
    "# 交差検証のスコア（CVスコア）\n",
    "cv_score = np.mean(valid_scores)\n",
    "print(f'CV: {np.mean(cv_score)}')\n",
    "\n"
   ]
  },
  {
   "cell_type": "code",
   "execution_count": 92,
   "metadata": {},
   "outputs": [
    {
     "data": {
      "text/plain": [
       "array([0, 1, 0, ..., 0, 0, 0])"
      ]
     },
     "execution_count": 92,
     "metadata": {},
     "output_type": "execute_result"
    }
   ],
   "source": [
    "test_preds = y_test_preds.mean(axis=1)\n",
    "test_preds = np.where(test_preds > 0.20, 1, 0)\n",
    "test_preds"
   ]
  },
  {
   "cell_type": "code",
   "execution_count": 93,
   "metadata": {},
   "outputs": [],
   "source": [
    "# lightgbm\n",
    "train_data = lgb.Dataset(X_train, label=y_train)\n",
    "test_data = lgb.Dataset(X_valid, label=y_valid, reference=train_data)\n",
    "params = {\n",
    "        'objective':'binary',\n",
    "        # 'metric':'f1',\n",
    "        'boosting_type':'gbdt',\n",
    "        'learning_rate':0.09,\n",
    "        'feature_pre_filter': False, \n",
    "        'lambda_l1': 9.82026004722772, \n",
    "        'lambda_l2': 1.0661176582519656e-08, \n",
    "        'num_leaves': 10, \n",
    "        'feature_fraction': 0.4, \n",
    "        'bagging_fraction': 0.8735129139493859, \n",
    "        'bagging_freq': 5, \n",
    "        'min_child_samples': 20, \n",
    "        'num_iterations': 1000\n",
    "        \n",
    "    }\n",
    "\n",
    "model = lgb.train(params, train_data, valid_sets=[test_data])\n",
    "y_preds = model.predict(X_valid, num_iteration=model.best_iteration)\n",
    "y_preds = np.where(y_preds > 0.20, 1, 0)\n",
    "f1 = f1_score(y_valid, y_preds)\n",
    "print(f1)"
   ]
  },
  {
   "cell_type": "code",
   "execution_count": 94,
   "metadata": {},
   "outputs": [],
   "source": [
    "# # データの保存\n",
    "# # 学習モデルの保存\n",
    "# import pickle\n",
    "\n",
    "# with open('optuna_lightgbm.pickle', mode='wb') as f:\n",
    "#     pickle.dump(model, f)"
   ]
  },
  {
   "cell_type": "code",
   "execution_count": 95,
   "metadata": {},
   "outputs": [],
   "source": [
    "# # データ読み込み\n",
    "# model_gbm = pickle.load(open('lightgbm.pickle', 'rb'))\n",
    "# y_pred = model_gbm.predict(X_valid)\n",
    "# y_pred = np.where(y_pred > 0.20, 1, 0)\n",
    "# print(f1_score(y_valid, y_pred))"
   ]
  },
  {
   "cell_type": "code",
   "execution_count": 96,
   "metadata": {},
   "outputs": [],
   "source": [
    "# # lightgbm（閾値を動かしてみる）\n",
    "# f1_lst = []\n",
    "# num = np.arange(0.15, 0.23, 0.01)\n",
    "# for i in num:\n",
    "#     y_pred = model.predict(X_valid)\n",
    "#     y_pred = np.where(y_pred > i, 1, 0)\n",
    "#     f1 = f1_score(y_valid, y_pred)\n",
    "#     f1_lst.append(f1)"
   ]
  },
  {
   "cell_type": "code",
   "execution_count": 97,
   "metadata": {},
   "outputs": [],
   "source": [
    "# print(\"Best params:\", best_params)\n",
    "# print(f\"{model} F1_score: {f1}\")"
   ]
  },
  {
   "cell_type": "code",
   "execution_count": 98,
   "metadata": {},
   "outputs": [],
   "source": [
    "# # lightgbm（optunaで最適なハイパーパラメータを求めた上で学習率[learning_rate]を動かしてみる）->0.09\n",
    "# f1_lst = []\n",
    "# learning_rate = np.arange(0.01, 0.16, 0.01)\n",
    "# for rate in learning_rate:\n",
    "#     train_data = lgb.Dataset(X_train, label=y_train)\n",
    "#     test_data = lgb.Dataset(X_valid, label=y_valid, reference=train_data)\n",
    "#     params = {\n",
    "#         'objective':'binary',\n",
    "#         # 'metric':'f1',\n",
    "#         'boosting_type':'gbdt',\n",
    "#         'learning_rate':rate,\n",
    "#         'feature_pre_filter': False, \n",
    "#         'lambda_l1': 9.82026004722772, \n",
    "#         'lambda_l2': 1.0661176582519656e-08, \n",
    "#         'num_leaves': 10, \n",
    "#         'feature_fraction': 0.4, \n",
    "#         'bagging_fraction': 0.8735129139493859, \n",
    "#         'bagging_freq': 5, \n",
    "#         'min_child_samples': 20, \n",
    "#         'num_iterations': 1000\n",
    "        \n",
    "#     }\n",
    "\n",
    "#     model = lgb.train(params, train_data, valid_sets=[test_data])\n",
    "#     y_preds = model.predict(X_valid, num_iteration=model.best_iteration)\n",
    "#     y_preds = np.where(y_preds > 0.20, 1, 0)\n",
    "#     f1 = f1_score(y_valid, y_preds)\n",
    "#     f1_lst.append(f1)"
   ]
  },
  {
   "cell_type": "code",
   "execution_count": 99,
   "metadata": {},
   "outputs": [],
   "source": [
    "# # 閾値の変動による精度の変化を可視化\n",
    "# plt.figure(figsize=(10, 6))\n",
    "# plt.plot(num, f1_lst, label='精度の推移', marker='o')"
   ]
  },
  {
   "cell_type": "code",
   "execution_count": 100,
   "metadata": {},
   "outputs": [],
   "source": [
    "# # 学習率の変動による精度の変化\n",
    "# plt.figure(figsize=(10, 6))\n",
    "# plt.plot(learning_rate, f1_lst, label='精度の推移', marker='o')"
   ]
  },
  {
   "cell_type": "code",
   "execution_count": 101,
   "metadata": {},
   "outputs": [],
   "source": [
    "# print(f1_lst.index(max(f1_lst)))\n",
    "# print(learning_rate[8])\n",
    "# print(max(f1_lst))"
   ]
  },
  {
   "cell_type": "code",
   "execution_count": 102,
   "metadata": {},
   "outputs": [],
   "source": [
    "# # 今度はtrainデータ全体で学習させてみる\n",
    "# train_data = lgb.Dataset(X, label=y)\n",
    "# test_data = lgb.Dataset(test, reference=train_data)\n",
    "# params = {\n",
    "#         'objective':'binary',\n",
    "#         'metric':'f1',\n",
    "#         'boosting_type':'gbdt',\n",
    "#         'learning_rate':0.09,\n",
    "#         'feature_pre_filter': False, \n",
    "#         'lambda_l1': 9.82026004722772, \n",
    "#         'lambda_l2': 1.0661176582519656e-08, \n",
    "#         'num_leaves': 10, \n",
    "#         'feature_fraction': 0.4, \n",
    "#         'bagging_fraction': 0.8735129139493859, \n",
    "#         'bagging_freq': 5, \n",
    "#         'min_child_samples': 20, \n",
    "#         'num_iterations': 1000\n",
    "        \n",
    "#     }\n",
    "\n",
    "# model = lgb.train(params, train_data)\n",
    "# test_preds = model.predict(test, num_iteration=model.best_iteration)\n",
    "# test_preds = np.where(test_preds > 0.20, 1, 0)\n",
    "# print(test_preds)"
   ]
  },
  {
   "cell_type": "code",
   "execution_count": 103,
   "metadata": {},
   "outputs": [],
   "source": [
    "# test_preds = best_model.predict(test)\n",
    "# test_preds = test_preds.astype(int)\n",
    "# test_preds"
   ]
  },
  {
   "cell_type": "markdown",
   "metadata": {},
   "source": [
    "提出"
   ]
  },
  {
   "cell_type": "code",
   "execution_count": 104,
   "metadata": {},
   "outputs": [
    {
     "data": {
      "text/html": [
       "<div>\n",
       "<style scoped>\n",
       "    .dataframe tbody tr th:only-of-type {\n",
       "        vertical-align: middle;\n",
       "    }\n",
       "\n",
       "    .dataframe tbody tr th {\n",
       "        vertical-align: top;\n",
       "    }\n",
       "\n",
       "    .dataframe thead th {\n",
       "        text-align: right;\n",
       "    }\n",
       "</style>\n",
       "<table border=\"1\" class=\"dataframe\">\n",
       "  <thead>\n",
       "    <tr style=\"text-align: right;\">\n",
       "      <th></th>\n",
       "      <th>0</th>\n",
       "      <th>1</th>\n",
       "    </tr>\n",
       "  </thead>\n",
       "  <tbody>\n",
       "    <tr>\n",
       "      <th>0</th>\n",
       "      <td>242150</td>\n",
       "      <td>0</td>\n",
       "    </tr>\n",
       "    <tr>\n",
       "      <th>1</th>\n",
       "      <td>242151</td>\n",
       "      <td>0</td>\n",
       "    </tr>\n",
       "    <tr>\n",
       "      <th>2</th>\n",
       "      <td>242152</td>\n",
       "      <td>0</td>\n",
       "    </tr>\n",
       "    <tr>\n",
       "      <th>3</th>\n",
       "      <td>242153</td>\n",
       "      <td>0</td>\n",
       "    </tr>\n",
       "    <tr>\n",
       "      <th>4</th>\n",
       "      <td>242154</td>\n",
       "      <td>0</td>\n",
       "    </tr>\n",
       "  </tbody>\n",
       "</table>\n",
       "</div>"
      ],
      "text/plain": [
       "        0  1\n",
       "0  242150  0\n",
       "1  242151  0\n",
       "2  242152  0\n",
       "3  242153  0\n",
       "4  242154  0"
      ]
     },
     "execution_count": 104,
     "metadata": {},
     "output_type": "execute_result"
    }
   ],
   "source": [
    "submit = pd.read_csv('C:\\\\Users\\\\HAMAGUCHI TAKUMA\\\\OneDrive - Yokohama City University\\\\ドキュメント\\\\signate\\\\債務不履行リスクの低減\\\\submit.csv', header=None)\n",
    "submit.head()"
   ]
  },
  {
   "cell_type": "code",
   "execution_count": 105,
   "metadata": {},
   "outputs": [
    {
     "data": {
      "text/html": [
       "<div>\n",
       "<style scoped>\n",
       "    .dataframe tbody tr th:only-of-type {\n",
       "        vertical-align: middle;\n",
       "    }\n",
       "\n",
       "    .dataframe tbody tr th {\n",
       "        vertical-align: top;\n",
       "    }\n",
       "\n",
       "    .dataframe thead th {\n",
       "        text-align: right;\n",
       "    }\n",
       "</style>\n",
       "<table border=\"1\" class=\"dataframe\">\n",
       "  <thead>\n",
       "    <tr style=\"text-align: right;\">\n",
       "      <th></th>\n",
       "      <th>0</th>\n",
       "      <th>1</th>\n",
       "    </tr>\n",
       "  </thead>\n",
       "  <tbody>\n",
       "    <tr>\n",
       "      <th>0</th>\n",
       "      <td>242150</td>\n",
       "      <td>0</td>\n",
       "    </tr>\n",
       "    <tr>\n",
       "      <th>1</th>\n",
       "      <td>242151</td>\n",
       "      <td>1</td>\n",
       "    </tr>\n",
       "    <tr>\n",
       "      <th>2</th>\n",
       "      <td>242152</td>\n",
       "      <td>0</td>\n",
       "    </tr>\n",
       "    <tr>\n",
       "      <th>3</th>\n",
       "      <td>242153</td>\n",
       "      <td>0</td>\n",
       "    </tr>\n",
       "    <tr>\n",
       "      <th>4</th>\n",
       "      <td>242154</td>\n",
       "      <td>0</td>\n",
       "    </tr>\n",
       "  </tbody>\n",
       "</table>\n",
       "</div>"
      ],
      "text/plain": [
       "        0  1\n",
       "0  242150  0\n",
       "1  242151  1\n",
       "2  242152  0\n",
       "3  242153  0\n",
       "4  242154  0"
      ]
     },
     "execution_count": 105,
     "metadata": {},
     "output_type": "execute_result"
    }
   ],
   "source": [
    "submit[1] = test_preds\n",
    "submit.head()"
   ]
  },
  {
   "cell_type": "code",
   "execution_count": 106,
   "metadata": {},
   "outputs": [],
   "source": [
    "submit.to_csv(\"submission.csv\", index=False, header=None)"
   ]
  },
  {
   "cell_type": "code",
   "execution_count": 107,
   "metadata": {},
   "outputs": [
    {
     "data": {
      "text/html": [
       "<div>\n",
       "<style scoped>\n",
       "    .dataframe tbody tr th:only-of-type {\n",
       "        vertical-align: middle;\n",
       "    }\n",
       "\n",
       "    .dataframe tbody tr th {\n",
       "        vertical-align: top;\n",
       "    }\n",
       "\n",
       "    .dataframe thead th {\n",
       "        text-align: right;\n",
       "    }\n",
       "</style>\n",
       "<table border=\"1\" class=\"dataframe\">\n",
       "  <thead>\n",
       "    <tr style=\"text-align: right;\">\n",
       "      <th></th>\n",
       "      <th>0</th>\n",
       "      <th>1</th>\n",
       "    </tr>\n",
       "  </thead>\n",
       "  <tbody>\n",
       "    <tr>\n",
       "      <th>0</th>\n",
       "      <td>242150</td>\n",
       "      <td>0</td>\n",
       "    </tr>\n",
       "    <tr>\n",
       "      <th>1</th>\n",
       "      <td>242151</td>\n",
       "      <td>1</td>\n",
       "    </tr>\n",
       "    <tr>\n",
       "      <th>2</th>\n",
       "      <td>242152</td>\n",
       "      <td>0</td>\n",
       "    </tr>\n",
       "    <tr>\n",
       "      <th>3</th>\n",
       "      <td>242153</td>\n",
       "      <td>0</td>\n",
       "    </tr>\n",
       "    <tr>\n",
       "      <th>4</th>\n",
       "      <td>242154</td>\n",
       "      <td>0</td>\n",
       "    </tr>\n",
       "  </tbody>\n",
       "</table>\n",
       "</div>"
      ],
      "text/plain": [
       "        0  1\n",
       "0  242150  0\n",
       "1  242151  1\n",
       "2  242152  0\n",
       "3  242153  0\n",
       "4  242154  0"
      ]
     },
     "execution_count": 107,
     "metadata": {},
     "output_type": "execute_result"
    }
   ],
   "source": [
    "submission = pd.read_csv('submission.csv', header=None)\n",
    "submission.head()"
   ]
  },
  {
   "cell_type": "code",
   "execution_count": null,
   "metadata": {},
   "outputs": [],
   "source": []
  },
  {
   "cell_type": "code",
   "execution_count": null,
   "metadata": {},
   "outputs": [],
   "source": []
  }
 ],
 "metadata": {
  "kernelspec": {
   "display_name": "Python 3",
   "language": "python",
   "name": "python3"
  },
  "language_info": {
   "codemirror_mode": {
    "name": "ipython",
    "version": 3
   },
   "file_extension": ".py",
   "mimetype": "text/x-python",
   "name": "python",
   "nbconvert_exporter": "python",
   "pygments_lexer": "ipython3",
   "version": "3.10.6"
  },
  "orig_nbformat": 4
 },
 "nbformat": 4,
 "nbformat_minor": 2
}
